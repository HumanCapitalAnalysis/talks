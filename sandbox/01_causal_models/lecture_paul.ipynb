{
 "cells": [
  {
   "cell_type": "markdown",
   "metadata": {},
   "source": [
    "# Learning Goals\n",
    "- What is a DAG?\n",
    "- How do DAGs relate to SEMs?\n",
    "- What does the do operator do?\n",
    "- How can we use that to define causal effects?\n",
    "- What causal structure is added by this approach?\n",
    "- How can we use DAGs to reason about which variables we should adjust for in Regression or matching to estimate the total causal effect?"
   ]
  },
  {
   "cell_type": "code",
   "execution_count": null,
   "metadata": {},
   "outputs": [],
   "source": [
    " ### Structural Equation Models"
   ]
  },
  {
   "cell_type": "markdown",
   "metadata": {},
   "source": [
    "- Define Structural Equation Models\n",
    "- What is the additional structure imposed by causality"
   ]
  },
  {
   "cell_type": "markdown",
   "metadata": {},
   "source": [
    "#### Definition SEM\n"
   ]
  },
  {
   "cell_type": "markdown",
   "metadata": {},
   "source": [
    "- A structural equation model is a set of equations and a joint distribution of noise terms\n",
    "\\begin{equation*}\n",
    "S:= (S, \\mathbb{p}^N)\n",
    "\\end{equation*}\n",
    "- An equation defines a variable in terms of its parents and noise terms (N_j):\n",
    "$S_j: X_j := F_j(Par_j, N_j) \\qquad j = 1,...,p$\n",
    "- Parents of $X_j$ can be all other variables\n",
    "$Par_j \\subset \\{X_j, ..., X_p\\} \\setminus \\{X_j\\}$\n",
    "- Noise terms are independent\n",
    "- To get a causal graph we go through the model equation by equation and draw directed edges from each RHS variable into the corresponding left-hand side variable\n",
    "- We write $:=$ instead of $=$ to stress that a SEM is more than a system of equations. What is to the left and the right of the equal sign matters when we talk about interventions."
   ]
  },
  {
   "cell_type": "markdown",
   "metadata": {},
   "source": [
    "#### Example 1 \n",
    "Consider the following SEM \n",
    "\\begin{aligned}\n",
    "&S_1: X := N_x\\\\\n",
    "&S_2: Y := -6X + N_y\\\\\n",
    "&N_x, N_y \\sim^{i.i.d} N(0,1)  \n",
    "\\end{aligned}"
   ]
  },
  {
   "cell_type": "markdown",
   "metadata": {},
   "source": [
    "- What is the covariance between $X$ and $Y$?\n",
    "Plug in error terms and calculate\n",
    "\\begin{equation*}\n",
    "cov(XY) := E[N_x(-6N_x+N_y)] - 0 \\cdot 0\n",
    "\\end{equation*}\n",
    "-What is the joint distribution of $X$ and $Y$?\n",
    "\\begin{aligned}\n",
    "(X, Y) \\sim N \\left(\\left(\n",
    "\\begin{matrix}\n",
    "  0 \\\\\n",
    "  0\n",
    "  \\end{matrix}\n",
    "\\right), \\left(\\begin{matrix}\n",
    "   1& -6 \\\\\n",
    "  -6& 37\n",
    "  \\end{matrix} \\right) \\right)\n",
    "\\end{aligned}\n",
    "- What is the corresponding DAG?"
   ]
  },
  {
   "cell_type": "code",
   "execution_count": 8,
   "metadata": {},
   "outputs": [],
   "source": [
    "#### Example 2"
   ]
  },
  {
   "cell_type": "markdown",
   "metadata": {},
   "source": [
    "\\begin{aligned}\n",
    "S_1: X_1 &:= f_1(X_3, N_1)\\\\\n",
    "S_2: X_2 &:= f_2(X_1, N_2)\\\\\n",
    "S_3: X_3 &:= f_3(N_3) \\\\\n",
    "S_4: X_4 &:= f_4(X_2, X_3, N_4) \\\\\n",
    "\\end{aligned}\n",
    "The $N_i$ are jointly independent"
   ]
  },
  {
   "cell_type": "markdown",
   "metadata": {},
   "source": [
    "- Draw the corresponding Graph and verify that it doesn't have cycles\n",
    "- How can I simulate the model?\n",
    "    - Draw noise terms\n",
    "    - Start at the source and plug in until you reach the end\n",
    "- Why Can I simulate the model?\n",
    "    - Because the graph does not have cycles\n",
    "- Why does the graph imply a unique joint distribution?\n",
    "    - Using the same strategy as for simulation I can express every variable as a function of the noise terms\n",
    "    example: $X_4 = f_4(f_2(f_1(f_3(N_3), N_1), N_2), f_3(N_3), N_4)$\n",
    "    - Why does this uniquely pin down the joint distribution Philip?"
   ]
  },
  {
   "cell_type": "markdown",
   "metadata": {},
   "source": []
  },
  {
   "cell_type": "markdown",
   "metadata": {},
   "source": [
    "### Do operator and Intervention distributions\n",
    "- The SEM $S$ implies a joint distribution of variables $\\mathbb{P^X_{S}}$\n",
    "- The intervention distribution $\\mathbb{P}^{X|do(X_j = f^{'}_j(Par_j, N_j)}_{S}$ is the joint distribution implied by a SEM where we replace $f_j$ by  $f^{'}_j$\n",
    "- The probability of an event $A$ under the intervention distribution is often denoted by $P(A|do(X_j = f^{'}_j(Par_j, N_j))$\n",
    "- The expected value of $X_i$ under the intervention distribution is often denoted as $E(X_i|do(X_j = f^{'}_j(Par_j, N_j))$\n",
    "- Common special cases is $do(X_j = a)$, where a is a constant "
   ]
  },
  {
   "cell_type": "markdown",
   "metadata": {},
   "source": [
    "#### Example 1 Revisited\n",
    "- We apply $do(X = 3)$ to the structural model from Example 1?\n",
    "- The modified model is\n",
    "\\begin{aligned}\n",
    "&S_1: X := 3\\\\\n",
    "&S_2: Y := -6X + N_y\\\\\n",
    "&N_x, N_y \\sim^{i.i.d} N(0,1)  \n",
    "\\end{aligned}\n",
    "- What is the marginal distribution of Y?\n",
    "\\begin{aligned}\n",
    "    \\mathbb{P}^Y_S = N(0, 17) \\neq \\mathbb{P}^{Y|do(X = 3)}_S = N(-18, 1) = \\mathbb{P}^{Y|X = 3}_S\n",
    "\\end{aligned}\n",
    "- What is the marginal distribution of X if we intervene on Y ( \\mathbb{P}^{X|do(Y = 3)})?\n",
    "- The modified model is\n",
    "\\begin{aligned}\n",
    "&S_1: X := N_x\\\\\n",
    "&S_2: Y := 3 \\\\\n",
    "&N_x, N_y \\sim^{i.i.d} N(0,1)  \n",
    "\\end{aligned}\n",
    "- Thus the marginal distribution of X is the distribution of $N_x$\n",
    "\\begin{aligned}\n",
    "   \\mathbb{P}^{X|do(Y = 3)}) = N(0,1)\n",
    "\\end{aligned}\n",
    "- What is the distribution of $X$ conditional on $Y=3$?\n",
    "Recall the SEM from Exercise 1\n",
    "\\begin{aligned}\n",
    " &S_1: X := N_x \\\\\n",
    " &S_2: Y := -6N_x + N_y \\\\\n",
    " &N_x, N_y \\sim^{i.i.d} N(0,1)  \n",
    "\\end{aligned}\n",
    "Solve $S_2$ for $N_x$ and plug into $S_1$ to get\n",
    "\\begin{aligned}\n",
    "X = N_x = \\frac{N_y-Y}{6}  \\Rightarrow  \\mathbb{P}^{X|Y = 3} = N\\left(-\\frac{1}{2}, \\frac{1}{36} \\right) \\neq \\mathbb{P}^{X|do(Y = 3)} = N(0,1)\n",
    "\\end{aligned}\n",
    "- Is this correct Philipp?\n"
   ]
  },
  {
   "cell_type": "markdown",
   "metadata": {},
   "source": [
    "#### Causal Effects and the Difference Between Conditioning and Intervening\n",
    "- Draw Graph again\n",
    "- Interventions on Y do not affect X, however Interventions on X do affect Y. That is the case because the directed edge goes from $X$ to $Y$.\n",
    "- We use this observation to define a causal effect.  Given SEM $S$ there is a (total) causal effect from $X$ to $Y$ iff $X \\not\\!\\perp\\!\\!\\!\\perp Y$ in $\\mathbb{P}^{X|do(X = N^{'}_x)}_S$ for some variable $N^{'}_x$\n",
    "- Philipp: What if the variable is a number?\n",
    "- If we want to quatify the causal effect we can compare how probabilities for a specific event change or look at the Average causal effect on $Y$ if we change $X$ from $x^{''}$ to $x^{'}$: $E[Y|X=do(x^{'})]-E[Y|X=do(x^{''})]$\n",
    "- The do operator only influences the distribution of children of the variable we intervene on. Conditioning also influences parents.\n",
    "\n"
   ]
  },
  {
   "cell_type": "markdown",
   "metadata": {},
   "source": [
    "### The Correct Model\n",
    "A SEM is correct if the implied distribution is correct and the intervention distributions correspond to distributions obtained from actual interventions."
   ]
  },
  {
   "cell_type": "markdown",
   "metadata": {},
   "source": [
    "#### Adjustment Sets (Theorem)\n",
    "Simplified Notation: $X$ is a Treatment and $Y$ is an outcome. We want to identify $𝑝𝑆,𝑑𝑜(𝑋=𝑥)(𝑦)$ by adjusting for variables in Z.\n",
    "-Backdoor Adjustment:\n",
    "    - Z blocks alls paths from $X$ to $Y$ entering $X$ through the backdoor\n",
    "    - Z contains no descendant of X\n",
    "-Parent Adjustment: Z contains all parents of $X$ (completely model the selection process)\n",
    "-Towards Necesity: Any Z with \n",
    "    -$Z$ contains no descendant of any node on a directed Path from $X$ to $Y$ (except fo descendants of $X$ that are on a directed path from $X$ to $Y$) AND \n",
    "    -Z blocks all non-directed paths from X to Y\n",
    "    \n",
    "### Example:\n",
    "- Backdoor: $\\{A\\}, \\{B\\}$\n",
    "- Parent: $\\{C, A\\}$\n",
    "- All: $\\{A\\}, \\{B\\}, \\{A, B\\}, \\{A, F\\}, \\{B, F\\}, \\{A, C\\},\n",
    "\\{B, C\\}, \\{A, B, C\\}, \\{A, B, F\\}$\n",
    "\n",
    "### Estimation\n",
    "If $Z$ is a valid adjustment set $(Y_a, Y_b) \\perp X | Z$, therefore we can estimate the average causal effect by controlling for $Z$ in matching or, under linearity, regression.\n",
    "\n"
   ]
  },
  {
   "cell_type": "code",
   "execution_count": null,
   "metadata": {},
   "outputs": [],
   "source": []
  }
 ],
 "metadata": {
  "kernelspec": {
   "display_name": "Python 3",
   "language": "python",
   "name": "python3"
  },
  "language_info": {
   "codemirror_mode": {
    "name": "ipython",
    "version": 3
   },
   "file_extension": ".py",
   "mimetype": "text/x-python",
   "name": "python",
   "nbconvert_exporter": "python",
   "pygments_lexer": "ipython3",
   "version": "3.7.1"
  }
 },
 "nbformat": 4,
 "nbformat_minor": 2
}
