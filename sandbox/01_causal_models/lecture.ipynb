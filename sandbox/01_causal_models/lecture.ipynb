{
 "cells": [
  {
   "cell_type": "markdown",
   "metadata": {},
   "source": [
    "# Causal Models\n",
    "\n",
    "\n",
    "This first darft of the lectures is mostly a direct copy from the references below.\n",
    "\n"
   ]
  },
  {
   "cell_type": "markdown",
   "metadata": {},
   "source": [
    "## Basic probablity and statistics\n",
    "\n",
    "We call $X$ indepdendent of $Y$ and write $$ if and only if\n",
    "\n",
    "\\begin{align*}\n",
    "p(x, y) = p(x) p(y)\n",
    "\\end{align*}\n",
    "\n",
    "We call $X_1, ..., X_p$ jointly indepdendent if and only if\n",
    "\n",
    "\\begin{align*}\n",
    "p(x_1, .., x_p) = p(x_1) \\multiply ... \\multiply p(x_p)\n",
    "\\end{align*}\n",
    "\n"
   ]
  },
  {
   "cell_type": "markdown",
   "metadata": {},
   "source": [
    "## Graphs\n",
    "\n",
    "In this subsection we will briefly review some basic vocabulary to describe graphs and discuss each based on an example DAG.\n",
    "\n",
    "**Definition** A graph $G = (V, E)$ consists of finitely many nodes or vertices $V$ and edges $E\\subset V^2$ with $(v,v)\\neq E$ for any $v \\in V$\n",
    "\n",
    "\n",
    "<img src=\"material/example_graph.png\" width=\"250\" />\n",
    "\n",
    "\n",
    "### Vocabulary\n",
    "\n",
    "* parent, child, fully connected, undirected edge, v - structure, \n",
    "\n",
    "\n",
    "* path, directed path, decendent\n",
    "\n",
    "\n",
    "\n"
   ]
  },
  {
   "cell_type": "markdown",
   "metadata": {},
   "source": [
    "## References\n",
    "\n",
    "* http://web.math.ku.dk/~peters/jonas_files/cover.png"
   ]
  }
 ],
 "metadata": {
  "kernelspec": {
   "display_name": "Python 3",
   "language": "python",
   "name": "python3"
  },
  "language_info": {
   "codemirror_mode": {
    "name": "ipython",
    "version": 3
   },
   "file_extension": ".py",
   "mimetype": "text/x-python",
   "name": "python",
   "nbconvert_exporter": "python",
   "pygments_lexer": "ipython3",
   "version": "3.5.6"
  }
 },
 "nbformat": 4,
 "nbformat_minor": 2
}
