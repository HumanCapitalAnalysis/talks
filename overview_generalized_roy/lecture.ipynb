{
 "cells": [
  {
   "cell_type": "markdown",
   "metadata": {
    "collapsed": true,
    "slideshow": {
     "slide_type": "slide"
    }
   },
   "source": [
    "# Overview on the Generalized Roy Model"
   ]
  },
  {
   "cell_type": "markdown",
   "metadata": {
    "slideshow": {
     "slide_type": "slide"
    }
   },
   "source": [
    "## The Generalized Roy Model\n",
    "\n",
    "\\begin{align}\n",
    "\\text{Potential Outcomes} &\\qquad \\text{Cost} \\\\\n",
    "Y_1 = \\mu_1(X) + U_1      &\\qquad C = \\mu_D(Z) + U_C \\\\\n",
    "Y_0 = \\mu_0(X) + U_0      &\\qquad \\\\\n",
    "    & \\\\\n",
    "\\text{Observed Outcomes } &\\qquad \\text{Choice} \\\\\n",
    "Y = D Y_1 + (1 - D)Y_0 &\\qquad S = Y_1 - Y_0 - C \\\\\n",
    "                       &\\qquad D = \\mathrm{I}[S < 0] \\\\\n",
    "\\end{align}"
   ]
  },
  {
   "cell_type": "markdown",
   "metadata": {
    "slideshow": {
     "slide_type": "slide"
    }
   },
   "source": [
    "### Useful Notation\n",
    "\n",
    "\\begin{align*}\n",
    "\\mu_S(X, Z) & = (\\mu_1(X) - \\mu_0(X)) - \\mu_C(Z) \\\\\n",
    "V & = U_C - (U_1 - U_0) \\\\\n",
    "P(X, Z) & = \\Pr(D = 1 \\mid X, Z)  = F_V(\\mu_S(X, Z)) \\\\\n",
    "U_s & = F_V(V) \n",
    "\\end{align*}\n",
    "\n",
    "Rewriting Choice Equation\n",
    "\n",
    "\\begin{align*}\n",
    "D = \\mathrm{I}[P(X,Z) > U_S]\n",
    "\\end{align*}"
   ]
  },
  {
   "cell_type": "markdown",
   "metadata": {
    "slideshow": {
     "slide_type": "slide"
    }
   },
   "source": [
    "### Assumptions\n",
    "\n",
    "* The term $\\mu_D(Z)$ is a nondegenerate random variable conditional on $X$.\n",
    "\n",
    "* The random vectors $(U_1, U_C)$ and $(U_0, U_C)$ are independent of $Z$ conditional on $X$.\n",
    "\n",
    "* The distribution of $U_C$ is absolutely continuous with Lebesgue measure.\n",
    "\n",
    "* The values $E[Y_1]$ and $E[Y_0]$ are finite.\n",
    "\n",
    "* $1 > Pr(D=1 \\mid X) > 0$."
   ]
  },
  {
   "cell_type": "markdown",
   "metadata": {
    "slideshow": {
     "slide_type": "slide"
    }
   },
   "source": [
    "<img src=\"material/fig-common-support.png\">"
   ]
  },
  {
   "cell_type": "markdown",
   "metadata": {
    "slideshow": {
     "slide_type": "slide"
    }
   },
   "source": [
    "### Essential Heterogeneity\n",
    "\n",
    "**Definition** Individuals select their treatment status based on gains unobservable by the econometrician. More formally,\n",
    "\n",
    "\\begin{align*}\n",
    "Y_1 - Y_0 \\perp D\\quad \\mid X = x\n",
    "\\end{align*}\n",
    "\n",
    "$\\Rightarrow$ consequences for the choice of the estimation strategy"
   ]
  },
  {
   "cell_type": "markdown",
   "metadata": {
    "slideshow": {
     "slide_type": "slide"
    }
   },
   "source": [
    "<img src=\"material/fig-eh-conditional-expectation.png\">"
   ]
  },
  {
   "cell_type": "markdown",
   "metadata": {
    "slideshow": {
     "slide_type": "slide"
    }
   },
   "source": [
    "### Individual - Specific Effect of Treatment\n",
    "\n",
    "\\begin{align*}\n",
    "Y_1 - Y_0 = (\\mu_1(X) - \\mu_0(X)) + (U_1 - U_0)\\\\\n",
    "\\end{align*}\n",
    "\n",
    "Sources of Heterogeneity\n",
    "* Difference in Observable Characteristics\n",
    "* Difference in Unobservable Characteristics\n",
    "    * Uncertainty\n",
    "    * Private Information"
   ]
  },
  {
   "cell_type": "markdown",
   "metadata": {
    "slideshow": {
     "slide_type": "slide"
    }
   },
   "source": [
    "### Conventional Treatment Effects\n",
    "\n",
    "\\begin{align*}\n",
    "B^{ATE} & = E[Y_1 - Y_0 ]\\\\\n",
    "B^{TT} & = E[Y_1 - Y_0 \\mid D = 1]\\\\\n",
    "B^{TUT} & = E[Y_1 - Y_0 \\mid D = 0]\\\\\n",
    "\\end{align*}\n",
    "\n",
    "* correspond to *extreme* policy alternatives\n"
   ]
  },
  {
   "cell_type": "markdown",
   "metadata": {
    "slideshow": {
     "slide_type": "slide"
    }
   },
   "source": [
    "### Marginal Benefit of Treatment\n",
    "\n",
    "\\begin{align*}\n",
    "B^{MTE}(x, u_S) = E [Y_1 - Y_0 \\mid X = x, U_S = u_S]\n",
    "\\end{align*}\n",
    "\n",
    "**Intuition** Mean gross return to treatment for persons at quantile $u_S$ of the first-stage unobservable $V$."
   ]
  },
  {
   "cell_type": "markdown",
   "metadata": {
    "slideshow": {
     "slide_type": "slide"
    }
   },
   "source": [
    "<img src=\"material/fig-eh-marginal-effect.png\">"
   ]
  },
  {
   "cell_type": "markdown",
   "metadata": {
    "slideshow": {
     "slide_type": "slide"
    }
   },
   "source": [
    "<img src=\"material/fig-treatment-effects.png\">"
   ]
  },
  {
   "cell_type": "markdown",
   "metadata": {
    "slideshow": {
     "slide_type": "slide"
    }
   },
   "source": [
    "### Effects of Treatment as Weighted Averages\n",
    "\n",
    "Parameter $\\Delta_j$, can be written as a weighted average of the $B^{MTE}(x, u_S)$.\n",
    "\n",
    "\\begin{align*}\n",
    "\\Delta_j(x) = \\int_0^1 B^{MTE}(x, u_S) \\omega^j(x, u_S) du_S,\n",
    "\\end{align*}\n",
    "\n",
    "where the weights $\\omega^j(x, u_S)$ are specific to parameter $j$ and integrate to one."
   ]
  },
  {
   "cell_type": "markdown",
   "metadata": {
    "slideshow": {
     "slide_type": "slide"
    }
   },
   "source": [
    "**Weights**\n",
    "\n",
    "\\begin{align*}\n",
    " \\omega^{ATE}(x, u_S) & = 1 \\\\\n",
    " \\omega^{TT}(x, u_S) & = \\frac{1 - F_{P\\mid X=x}(u_S)}{E[P \\mid X = x]}\\\\\n",
    " \\omega^{TUT}(x, u_S) & = \\frac{F_{P\\mid X=x}(u_S)}{E[1 - P \\mid X = x]}\n",
    "\\end{align*}"
   ]
  }
 ],
 "metadata": {
  "celltoolbar": "Slideshow",
  "kernelspec": {
   "display_name": "Python 3",
   "language": "python",
   "name": "python3"
  },
  "language_info": {
   "codemirror_mode": {
    "name": "ipython",
    "version": 3
   },
   "file_extension": ".py",
   "mimetype": "text/x-python",
   "name": "python",
   "nbconvert_exporter": "python",
   "pygments_lexer": "ipython3",
   "version": "3.5.2"
  }
 },
 "nbformat": 4,
 "nbformat_minor": 2
}
