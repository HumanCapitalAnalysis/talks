{
 "cells": [
  {
   "cell_type": "markdown",
   "metadata": {
    "collapsed": true,
    "slideshow": {
     "slide_type": "slide"
    }
   },
   "source": [
    "# Overview on the Generalized Roy Model"
   ]
  },
  {
   "cell_type": "markdown",
   "metadata": {
    "slideshow": {
     "slide_type": "slide"
    }
   },
   "source": [
    "## The Generalized Roy Model\n",
    "\n",
    "\\begin{align*}\n",
    "\\text{Potential Outcomes} &\\qquad \\text{Cost} \\\\\n",
    "Y_1 = \\mu_1(X) + U_1      &\\qquad C = \\mu_D(Z) + U_C \\\\\n",
    "Y_0 = \\mu_0(X) + U_0      &\\qquad \\\\\n",
    "    & \\\\\n",
    "\\text{Observed Outcomes } &\\qquad \\text{Choice} \\\\\n",
    "Y = D Y_1 + (1 - D)Y_0 &\\qquad S = Y_1 - Y_0 - C \\\\\n",
    "                       &\\qquad D = \\mathrm{I}[S < 0] \\\\\n",
    "\\end{align*}"
   ]
  },
  {
   "cell_type": "markdown",
   "metadata": {
    "slideshow": {
     "slide_type": "slide"
    }
   },
   "source": [
    "### Fundamental Evaluation Problems\n",
    "\n",
    "* **Evaluation Problem** We only observe an individual in either the treated or untreated state.\n",
    "\n",
    "* **Selection Problem** Individuals that select into treatment different from those that do not."
   ]
  },
  {
   "cell_type": "markdown",
   "metadata": {
    "slideshow": {
     "slide_type": "slide"
    }
   },
   "source": [
    "### Evaluation Problem\n",
    "\n",
    "Observed outcome for individual $i$:\n",
    "\n",
    "\\begin{align*}\n",
    "Y_i = Y_{0i} + D_i (Y_{1i} - Y_{0i}) = \n",
    "\\begin{cases}\n",
    "Y_{1i} & \\text{if}\\quad D_i = 1 \\\\\n",
    "Y_{0i} & \\text{if}\\quad D_i = 0 \\\\\n",
    "\\end{cases}\n",
    "\\end{align*}\n",
    "\n"
   ]
  },
  {
   "cell_type": "markdown",
   "metadata": {
    "slideshow": {
     "slide_type": "slide"
    }
   },
   "source": [
    "### Useful Notation\n",
    "\n",
    "\\begin{align*}\n",
    "\\mu_S(X, Z) & = (\\mu_1(X) - \\mu_0(X)) - \\mu_C(Z) \\\\\n",
    "V & = U_C - (U_1 - U_0) \\\\\n",
    "P(X, Z) & = \\Pr(D = 1 \\mid X, Z)  = F_V(\\mu_S(X, Z)) \\\\\n",
    "U_s & = F_V(V) \n",
    "\\end{align*}\n",
    "\n",
    "Rewriting Choice Equation\n",
    "\n",
    "\\begin{align*}\n",
    "D = \\mathrm{I}[P(X,Z) > U_S]\n",
    "\\end{align*}"
   ]
  },
  {
   "cell_type": "markdown",
   "metadata": {
    "slideshow": {
     "slide_type": "slide"
    }
   },
   "source": [
    "### Assumptions\n",
    "\n",
    "* The term $\\mu_D(Z)$ is a nondegenerate random variable conditional on $X$.\n",
    "\n",
    "* The random vectors $(U_1, U_C)$ and $(U_0, U_C)$ are independent of $Z$ conditional on $X$.\n",
    "\n",
    "* The distribution of $U_C$ is absolutely continuous with Lebesgue measure.\n",
    "\n",
    "* The values $E[Y_1]$ and $E[Y_0]$ are finite.\n",
    "\n",
    "* $1 > Pr(D=1 \\mid X) > 0$."
   ]
  },
  {
   "cell_type": "markdown",
   "metadata": {
    "slideshow": {
     "slide_type": "slide"
    }
   },
   "source": [
    "<img src=\"material/fig-common-support.png\">"
   ]
  },
  {
   "cell_type": "markdown",
   "metadata": {
    "slideshow": {
     "slide_type": "slide"
    }
   },
   "source": [
    "### Essential Heterogeneity\n",
    "\n",
    "**Definition** Individuals select their treatment status based on gains unobservable by the econometrician. More formally,\n",
    "\n",
    "\\begin{align*}\n",
    "Y_1 - Y_0 \\perp D\\quad \\mid X = x\n",
    "\\end{align*}\n",
    "\n",
    "$\\Rightarrow$ consequences for the choice of the estimation strategy"
   ]
  },
  {
   "cell_type": "markdown",
   "metadata": {
    "slideshow": {
     "slide_type": "slide"
    }
   },
   "source": [
    "<img src=\"material/fig-eh-conditional-expectation.png\">"
   ]
  },
  {
   "cell_type": "markdown",
   "metadata": {
    "slideshow": {
     "slide_type": "slide"
    }
   },
   "source": [
    "### Individual - Specific Effect of Treatment\n",
    "\n",
    "\\begin{align*}\n",
    "Y_1 - Y_0 = (\\mu_1(X) - \\mu_0(X)) + (U_1 - U_0)\\\\\n",
    "\\end{align*}\n",
    "\n",
    "Sources of Heterogeneity\n",
    "* Difference in Observable Characteristics\n",
    "* Difference in Unobservable Characteristics\n",
    "    * Uncertainty\n",
    "    * Private Information"
   ]
  },
  {
   "cell_type": "markdown",
   "metadata": {
    "slideshow": {
     "slide_type": "slide"
    }
   },
   "source": [
    "### Conventional Treatment Effects\n",
    "\n",
    "\\begin{align*}\n",
    "B^{ATE} & = E[Y_1 - Y_0 ]\\\\\n",
    "B^{TT} & = E[Y_1 - Y_0 \\mid D = 1]\\\\\n",
    "B^{TUT} & = E[Y_1 - Y_0 \\mid D = 0]\\\\\n",
    "\\end{align*}\n",
    "\n",
    "* correspond to *extreme* policy alternatives\n"
   ]
  },
  {
   "cell_type": "markdown",
   "metadata": {
    "slideshow": {
     "slide_type": "slide"
    }
   },
   "source": [
    "### Selection Problem\n",
    "\n",
    "\n",
    "\\begin{align*}\n",
    "E[Y\\mid D = 1] - E[Y\\mid D = 0] & = \\underbrace{E[Y_1 - Y_0]}_{B^{ATE}} + \\underbrace{E[Y_1 - Y_0 \\mid D = 1] - E[Y_1 - Y_0]}_{\\text{Sorting Gain}} \\\\\n",
    "& + \\underbrace{E[Y_0\\mid D = 1] - E[Y_0 \\mid D = 0]}_{\\text{Selection Bias}}\n",
    "\\end{align*}\n"
   ]
  },
  {
   "cell_type": "markdown",
   "metadata": {
    "slideshow": {
     "slide_type": "slide"
    }
   },
   "source": [
    "### Selection Problem\n",
    "\n",
    "\n",
    "\\begin{align*}\n",
    "E[Y\\mid D = 1] - E[Y\\mid D = 0] & = \\underbrace{E[Y_1 - Y_0\\mid D = 1]}_{B^{TT}} \\\\\n",
    "& + \\underbrace{E[Y_0\\mid D= 1]- E[Y_0 \\mid D = 0]}_{\\text{Selection Bias}}\n",
    "\\end{align*}\n",
    "\n",
    "\n",
    "$\\Rightarrow$ the bias depends on the parameter of interest"
   ]
  },
  {
   "cell_type": "markdown",
   "metadata": {
    "slideshow": {
     "slide_type": "slide"
    }
   },
   "source": [
    "### Marginal Benefit of Treatment\n",
    "<br>\n",
    "\n",
    "\\begin{align*}\n",
    "B^{MTE}(x, u_S) = E [Y_1 - Y_0 \\mid X = x, U_S = u_S]\n",
    "\\end{align*}\n",
    "<br>\n",
    "\n",
    "**Intuition** Mean gross return to treatment for persons at quantile $u_S$ of the first-stage unobservable $V$."
   ]
  },
  {
   "cell_type": "markdown",
   "metadata": {
    "slideshow": {
     "slide_type": "slide"
    }
   },
   "source": [
    "<img src=\"material/fig-margin-indifference.png\">"
   ]
  },
  {
   "cell_type": "markdown",
   "metadata": {
    "slideshow": {
     "slide_type": "slide"
    }
   },
   "source": [
    "<img src=\"material/fig-eh-marginal-effect.png\">"
   ]
  },
  {
   "cell_type": "markdown",
   "metadata": {
    "slideshow": {
     "slide_type": "slide"
    }
   },
   "source": [
    "**Treatment Effects with Essential Heterogenity**\n",
    "<img src=\"material/fig-treatment-effects-with-eh.png\">"
   ]
  },
  {
   "cell_type": "markdown",
   "metadata": {
    "slideshow": {
     "slide_type": "slide"
    }
   },
   "source": [
    "**Treatment Effects without Essential Heterogenity**\n",
    "<img src=\"material/fig-treatment-effects-without-eh.png\">"
   ]
  },
  {
   "cell_type": "markdown",
   "metadata": {
    "slideshow": {
     "slide_type": "slide"
    }
   },
   "source": [
    "### Effects of Treatment as Weighted Averages\n",
    "\n",
    "Parameter $\\Delta_j$, can be written as a weighted average of the $B^{MTE}(x, u_S)$.\n",
    "\n",
    "\\begin{align*}\n",
    "\\Delta_j(x) = \\int_0^1 B^{MTE}(x, u_S) \\omega^j(x, u_S) du_S,\n",
    "\\end{align*}\n",
    "\n",
    "where the weights $\\omega^j(x, u_S)$ are specific to parameter $j$ and integrate to one."
   ]
  },
  {
   "cell_type": "markdown",
   "metadata": {
    "slideshow": {
     "slide_type": "slide"
    }
   },
   "source": [
    "**Weights**\n",
    "\n",
    "\\begin{align*}\n",
    " \\omega^{ATE}(x, u_S) & = 1 \\\\\n",
    " \\omega^{TT}(x, u_S) & = \\frac{1 - F_{P\\mid X=x}(u_S)}{E[P \\mid X = x]}\\\\\n",
    " \\omega^{TUT}(x, u_S) & = \\frac{F_{P\\mid X=x}(u_S)}{E[1 - P \\mid X = x]}\n",
    "\\end{align*}"
   ]
  },
  {
   "cell_type": "markdown",
   "metadata": {
    "slideshow": {
     "slide_type": "slide"
    }
   },
   "source": [
    "<img src=\"material/fig-weights-marginal-effect.png\">"
   ]
  },
  {
   "cell_type": "markdown",
   "metadata": {
    "slideshow": {
     "slide_type": "slide"
    }
   },
   "source": [
    "### Distributional Effects of Treatment\n",
    "\n",
    "* Marginal Distribution of Benefits\n",
    "\n",
    "* Joint Distribution of Potential Outcomes\n",
    "\n",
    "* Joint Distribution of Benefits and Surplus"
   ]
  },
  {
   "cell_type": "markdown",
   "metadata": {
    "slideshow": {
     "slide_type": "slide"
    }
   },
   "source": [
    "<img src=\"material/fig-treatment-effects-benefits.png\">"
   ]
  },
  {
   "cell_type": "markdown",
   "metadata": {
    "slideshow": {
     "slide_type": "slide"
    }
   },
   "source": [
    "<img src=\"material/fig-distribution-potential.png\">"
   ]
  },
  {
   "cell_type": "markdown",
   "metadata": {
    "slideshow": {
     "slide_type": "slide"
    }
   },
   "source": [
    "<img src=\"material/fig-distribution-surplus.png\">"
   ]
  },
  {
   "cell_type": "markdown",
   "metadata": {
    "slideshow": {
     "slide_type": "slide"
    }
   },
   "source": [
    "### Local Average Treatment Effect\n",
    "\n",
    "\\begin{align*}\n",
    "LATE(x, u_S, u_{S^\\prime}) = \\frac{1}{u_S - u_{S^\\prime}} \\int_{u_S}^{u_{S^\\prime}} B^{MTE}(x, u) du,\n",
    "\\end{align*}"
   ]
  },
  {
   "cell_type": "markdown",
   "metadata": {
    "slideshow": {
     "slide_type": "slide"
    }
   },
   "source": [
    "<img src=\"material/fig-local-average-treatment.png\">"
   ]
  },
  {
   "cell_type": "markdown",
   "metadata": {
    "slideshow": {
     "slide_type": "slide"
    }
   },
   "source": [
    "<h1><center>References</center></h1>\n",
    "\n",
    "* Abbring, J. and Heckman J. J. (2007). [Econometric Evaluation of Social Programs, Part III: Distributional Treatment Effects, Dynamic Treatment Effects, Dynamic Discrete Choice, and General Equilibrium Policy Evaluation.](http://www.sciencedirect.com/science/article/pii/S1573441207060722) In Heckman, J. J. and Leamer, E. E., editors, *Handbook of Econometrics*, volume 6B, pages 5145-5303. Elsevier Science, Amsterdam, Netherlands.\n",
    "\n",
    "\n",
    "* Carneiro, P., Hansen, K., and Heckman, J. J. (2003).[Estimating Distributions of Treatment Effects with an Application to the Returns to Schooling and Measurement of the Effects of Uncertainty on College Choice.](http://www.nber.org/papers/w9546) *International Economic Review*, 44(2):361-422.\n",
    "\n",
    "\n",
    "* Carneiro, P., Heckman, J. J., and Vytlacil, E. J. (2011). [Estimating Marginal Returns to Education.](https://www.aeaweb.org/articles?id=10.1257/aer.101.6.2754) *American Economic Review*, 101(6):2754-2781.\n",
    "\n",
    "\n",
    "* Heckman, J. J. (1990). [Micro Data, Heterogeneity, and the Evaluation of Public Policy: Nobel Lecture.](http://www.jstor.org/stable/10.1086/322086) *Journal of Political Economy*, 109(4):673-748.\n",
    "\n",
    "\n",
    "* Heckman, J. J. (2008). [Econometric Causality.](http://www.nber.org/papers/w13934) *International Statistical Review*, 76(1):1-27."
   ]
  },
  {
   "cell_type": "markdown",
   "metadata": {
    "slideshow": {
     "slide_type": "slide"
    }
   },
   "source": [
    "<h1><center>References</center></h1>\n",
    "\n",
    "* Heckman, J. J., Smith, J., and Clements, N. (1997). [Making the Most Out of Programme Evaluations and Social Experiments: Accounting for Heterogeneity in Programme Impacts.](https://www.jstor.org/stable/2971729) *The Review of Economics Studies*, 64(4): 487-535.\n",
    "\n",
    "\n",
    "* Heckman, J. J.  and Vytlacil, E. J. (2006b). [Understanding Instrumental Variables in Models with Essential Heterogeneity.](http://www.nber.org/papers/w12574) *The Review of Economics and Statistics*, 88(3):389-432.\n",
    "\n",
    "\n",
    "* Heckman, J. J.  and Vytlacil, E. J. (2001a). [Local Instrumental Variables.](http://www.nber.org/papers/t0252) In Hsiao, C. Morimune, K., and Powell, J., editors, *Nonlinear Statistical Modeling: Proceedings of the Thirteenth International Symposium in Economic Theory and Econometrics: Essay in Honor of Takeshi Amemiya*, pages 1-46. Cambridge University Press, Cambridge, United Kingdom.\n",
    "\n",
    "\n",
    "* Heckman, J. J.  and Vytlacil, E. J. (2001b). [Policy-Relevant Treatment Effects.](https://www.jstor.org/stable/2677742) *American Economic Review*, 91(2):107-111.\n",
    "\n",
    "\n",
    "* Heckman, J. J.  and Vytlacil, E. J. (2005). [Structural Equations, Treatment Effects, and Econometric Policy Evaluation.](http://www.nber.org/papers/w11259) *Econometrica*, 73(3):669-739."
   ]
  },
  {
   "cell_type": "markdown",
   "metadata": {
    "slideshow": {
     "slide_type": "slide"
    }
   },
   "source": [
    "<h1><center>References</center></h1>\n",
    "\n",
    "* Heckman, J. J.  and Vytlacil, E. J. (2007a). [Econometric Evaluation of Social Programs, Part I: Causal Models, Structural Models and Econometric Policy Evaluation.](http://www.sciencedirect.com/science/article/pii/S1573441207060709) In Heckman, J. J. and Leamer, E. E., editors, *Handbook of Econometrics*, volume 6b, pages 4779-4874. Elsevier Science, Amsterdam, Netherlands.\n",
    "\n",
    "\n",
    "* Heckman, J. J.  and Vytlacil, E. J. (2007b). [Econometric Evaluation of Social Programs, Part II: Using the Marginal Treatment Effect to Organize Alternative Economic Estimators to Evaluate Social Programs and to Forcast their Effects in New Environments.](http://www.sciencedirect.com/science/article/pii/S1573441207060710) In Heckman, J. J. and Leamer, E. E., editors, *Handbook of Econometrics*, volume 6b, pages 4875-4874. Elsevier Science, Amsterdam, Netherlands.\n",
    "\n",
    "\n",
    "* Roy, A. D. (1951). [Some Thoughts on the Distribution of Earnings.](https://www.jstor.org/stable/2662082) *Oxford Economic Papers*, 3(2):135-146."
   ]
  },
  {
   "cell_type": "code",
   "execution_count": null,
   "metadata": {
    "collapsed": true
   },
   "outputs": [],
   "source": []
  }
 ],
 "metadata": {
  "celltoolbar": "Slideshow",
  "kernelspec": {
   "display_name": "Python 3",
   "language": "python",
   "name": "python3"
  },
  "language_info": {
   "codemirror_mode": {
    "name": "ipython",
    "version": 3
   },
   "file_extension": ".py",
   "mimetype": "text/x-python",
   "name": "python",
   "nbconvert_exporter": "python",
   "pygments_lexer": "ipython3",
   "version": "3.6.1"
  }
 },
 "nbformat": 4,
 "nbformat_minor": 2
}
