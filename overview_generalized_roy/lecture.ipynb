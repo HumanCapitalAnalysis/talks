{
 "cells": [
  {
   "cell_type": "markdown",
   "metadata": {
    "collapsed": true,
    "slideshow": {
     "slide_type": "slide"
    }
   },
   "source": [
    "# Overview on the Generalized Roy Model"
   ]
  },
  {
   "cell_type": "markdown",
   "metadata": {
    "slideshow": {
     "slide_type": "slide"
    }
   },
   "source": [
    "### Policy Evaluation Tasks\n",
    "\n",
    "Heckman (2008) defines three policy evaluation tasks:\n",
    "\n",
    "* Evaluating the impact of historical interventions on outcomes including their impact in terms of well-being of the treated and the society at large.\n",
    "\n",
    "* Forecasting the impact of historical interventions implemented in one environment in other environments, including their impact in terms of well-being.\n",
    "\n",
    "* Forecasting the impacts of interventions never historically experienced to various environments, including their impact on well-being."
   ]
  },
  {
   "cell_type": "markdown",
   "metadata": {
    "slideshow": {
     "slide_type": "slide"
    }
   },
   "source": [
    "## The Generalized Roy Model\n",
    "\n",
    "\\begin{align*}\n",
    "\\text{Potential Outcomes} &\\qquad \\text{Cost} \\\\\n",
    "Y_1 = \\mu_1(X) + U_1      &\\qquad C = \\mu_D(Z) + U_C \\\\\n",
    "Y_0 = \\mu_0(X) + U_0      &\\qquad \\\\\n",
    "    & \\\\\n",
    "\\text{Observed Outcomes } &\\qquad \\text{Choice} \\\\\n",
    "Y = D Y_1 + (1 - D)Y_0 &\\qquad S = Y_1 - Y_0 - C \\\\\n",
    "                       &\\qquad D = \\mathrm{I}[S < 0] \\\\\n",
    "\\end{align*}"
   ]
  },
  {
   "cell_type": "markdown",
   "metadata": {
    "slideshow": {
     "slide_type": "slide"
    }
   },
   "source": [
    "### Conventional Notation\n",
    "\n",
    "\\begin{align*}\n",
    "Y = \\alpha + \\beta D + \\epsilon,\n",
    "\\end{align*}\n",
    "\n",
    "where $\\alpha = \\mu_0(X)$, $\\beta = (Y_1 - Y_0) =\\mu_1(X) - \\mu_0(X)  + (U_1 - U_0)$, and $\\epsilon=U_0$.\n",
    "\n",
    "\n"
   ]
  },
  {
   "cell_type": "markdown",
   "metadata": {
    "slideshow": {
     "slide_type": "slide"
    }
   },
   "source": [
    "### Econometric Problems\n",
    "\n",
    "* **Evaluation Problem** We only observe an individual in either the treated or untreated state.\n",
    "\n",
    "* **Selection Problem** Individuals that select into treatment different from those that do not."
   ]
  },
  {
   "cell_type": "markdown",
   "metadata": {
    "slideshow": {
     "slide_type": "slide"
    }
   },
   "source": [
    "### Evaluation Problem\n",
    "\n",
    "Observed outcome for individual $i$:\n",
    "\n",
    "\\begin{align*}\n",
    "Y_i = Y_{0i} + D_i (Y_{1i} - Y_{0i}) = \n",
    "\\begin{cases}\n",
    "Y_{1i} & \\text{if}\\quad D_i = 1 \\\\\n",
    "Y_{0i} & \\text{if}\\quad D_i = 0 \\\\\n",
    "\\end{cases}\n",
    "\\end{align*}\n",
    "\n"
   ]
  },
  {
   "cell_type": "markdown",
   "metadata": {
    "slideshow": {
     "slide_type": "slide"
    }
   },
   "source": [
    "### Useful Notation\n",
    "\n",
    "\\begin{align*}\n",
    "\\mu_S(X, Z) & = (\\mu_1(X) - \\mu_0(X)) - \\mu_C(Z) \\\\\n",
    "V & = U_C - (U_1 - U_0) \\\\\n",
    "P(X, Z) & = \\Pr(D = 1 \\mid X, Z)  = F_V(\\mu_S(X, Z)) \\\\\n",
    "U_s & = F_V(V) \n",
    "\\end{align*}\n",
    "\n",
    "Rewriting Choice Equation\n",
    "\n",
    "\\begin{align*}\n",
    "D = \\mathrm{I}[P(X,Z) > U_S]\n",
    "\\end{align*}"
   ]
  },
  {
   "cell_type": "markdown",
   "metadata": {
    "slideshow": {
     "slide_type": "slide"
    }
   },
   "source": [
    "## Agent Heterogeneity"
   ]
  },
  {
   "cell_type": "markdown",
   "metadata": {
    "slideshow": {
     "slide_type": "slide"
    }
   },
   "source": [
    "### Individual - Specific Effect of Treatment\n",
    "\n",
    "\\begin{align*}\n",
    "Y_1 - Y_0 = (\\mu_1(X) - \\mu_0(X)) + (U_1 - U_0)\\\\\n",
    "\\end{align*}\n",
    "\n",
    "Sources of Heterogeneity\n",
    "* Difference in Observable Characteristics\n",
    "* Difference in Unobservable Characteristics\n",
    "    * Uncertainty\n",
    "    * Private Information"
   ]
  },
  {
   "cell_type": "markdown",
   "metadata": {
    "slideshow": {
     "slide_type": "slide"
    }
   },
   "source": [
    "### Essential Heterogeneity\n",
    "\n",
    "**Definition** Individuals select their treatment status based on gains unobservable by the econometrician. More formally,\n",
    "\n",
    "\\begin{align*}\n",
    "Y_1 - Y_0 \\perp D\\quad \\mid X = x\n",
    "\\end{align*}\n",
    "\n",
    "$\\Rightarrow$ consequences for the choice of the estimation strategy"
   ]
  },
  {
   "cell_type": "markdown",
   "metadata": {
    "slideshow": {
     "slide_type": "slide"
    }
   },
   "source": [
    "<img src=\"material/fig-eh-conditional-expectation.png\">"
   ]
  },
  {
   "cell_type": "markdown",
   "metadata": {
    "slideshow": {
     "slide_type": "slide"
    }
   },
   "source": [
    "## Parameters of Interest"
   ]
  },
  {
   "cell_type": "markdown",
   "metadata": {
    "slideshow": {
     "slide_type": "slide"
    }
   },
   "source": [
    "### Conventional Treatment Effects\n",
    "<br>\n",
    "\n",
    "\\begin{align*}\n",
    "B^{ATE} & = E[Y_1 - Y_0 ]\\\\\n",
    "B^{TT} & = E[Y_1 - Y_0 \\mid D = 1]\\\\\n",
    "B^{TUT} & = E[Y_1 - Y_0 \\mid D = 0]\\\\\n",
    "\\end{align*}\n",
    "\n",
    "* correspond to *extreme* policy alternatives\n"
   ]
  },
  {
   "cell_type": "markdown",
   "metadata": {
    "slideshow": {
     "slide_type": "slide"
    }
   },
   "source": [
    "### Selection Problem\n",
    "<br>\n",
    "\n",
    "\\begin{align*}\n",
    "E[Y\\mid D = 1] - E[Y\\mid D = 0] & = \\underbrace{E[Y_1 - Y_0]}_{B^{ATE}} + \\underbrace{E[Y_1 - Y_0 \\mid D = 1] - E[Y_1 - Y_0]}_{\\text{Sorting Gain}} \\\\\n",
    "& + \\underbrace{E[Y_0\\mid D = 1] - E[Y_0 \\mid D = 0]}_{\\text{Selection Bias}}\n",
    "\\end{align*}\n"
   ]
  },
  {
   "cell_type": "markdown",
   "metadata": {
    "slideshow": {
     "slide_type": "slide"
    }
   },
   "source": [
    "### Selection Problem\n",
    "\n",
    "\n",
    "\\begin{align*}\n",
    "E[Y\\mid D = 1] - E[Y\\mid D = 0] & = \\underbrace{E[Y_1 - Y_0\\mid D = 1]}_{B^{TT}} \\\\\n",
    "& + \\underbrace{E[Y_0\\mid D= 1]- E[Y_0 \\mid D = 0]}_{\\text{Selection Bias}}\n",
    "\\end{align*}\n",
    "\n",
    "\n",
    "$\\Rightarrow$ the bias depends on the parameter of interest"
   ]
  },
  {
   "cell_type": "markdown",
   "metadata": {
    "slideshow": {
     "slide_type": "slide"
    }
   },
   "source": [
    "**Treatment Effects with Essential Heterogeneity**\n",
    "<img src=\"material/fig-treatment-effects-conventional.png\">"
   ]
  },
  {
   "cell_type": "markdown",
   "metadata": {
    "slideshow": {
     "slide_type": "slide"
    }
   },
   "source": [
    "**Treatment Effects without Essential Heterogenity**\n",
    "<img src=\"material/fig-treatment-effects-without-eh.png\">"
   ]
  },
  {
   "cell_type": "markdown",
   "metadata": {
    "slideshow": {
     "slide_type": "slide"
    }
   },
   "source": [
    "### Policy - Relevant Average Treatment Effect\n",
    "<br>\n",
    "\n",
    "**Observed Outcomes**\n",
    "\\begin{align*}\n",
    "Y_B = D_B Y_1 + (1 - D_B) Y_0 \\\\\n",
    "Y_A = D_A Y_1 + (1 - D_A) Y_0 \\\\\n",
    "\\end{align*}\n",
    "\n",
    "**Effect of Policy**\n",
    "\\begin{align*}\n",
    "B^{PRTE} = \\frac{1}{E[D_A] - E[D_B]} (E[Y_A] - E[Y_B])\n",
    "\\end{align*}\n"
   ]
  },
  {
   "cell_type": "markdown",
   "metadata": {
    "slideshow": {
     "slide_type": "slide"
    }
   },
   "source": [
    "### Marginal Benefit of Treatment\n",
    "<br>\n",
    "\n",
    "\\begin{align*}\n",
    "B^{MTE}(x, u_S) = E [Y_1 - Y_0 \\mid X = x, U_S = u_S]\n",
    "\\end{align*}\n",
    "<br>\n",
    "\n",
    "**Intuition** Mean gross return to treatment for persons at quantile $u_S$ of the first-stage unobservable $V$."
   ]
  },
  {
   "cell_type": "markdown",
   "metadata": {
    "slideshow": {
     "slide_type": "slide"
    }
   },
   "source": [
    "<img src=\"material/fig-margin-indifference.png\">"
   ]
  },
  {
   "cell_type": "markdown",
   "metadata": {
    "slideshow": {
     "slide_type": "slide"
    }
   },
   "source": [
    "<img src=\"material/fig-eh-marginal-effect.png\">"
   ]
  },
  {
   "cell_type": "markdown",
   "metadata": {
    "slideshow": {
     "slide_type": "slide"
    }
   },
   "source": [
    "### Effects of Treatment as Weighted Averages\n",
    "\n",
    "Parameter $\\Delta_j$, can be written as a weighted average of the $B^{MTE}(x, u_S)$.\n",
    "\n",
    "\\begin{align*}\n",
    "\\Delta_j(x) = \\int_0^1 B^{MTE}(x, u_S) \\omega^j(x, u_S) du_S,\n",
    "\\end{align*}\n",
    "\n",
    "where the weights $\\omega^j(x, u_S)$ are specific to parameter $j$ and integrate to one."
   ]
  },
  {
   "cell_type": "markdown",
   "metadata": {
    "slideshow": {
     "slide_type": "slide"
    }
   },
   "source": [
    "**Weights**\n",
    "\n",
    "\\begin{align*}\n",
    " \\omega^{ATE}(x, u_S) & = 1 \\\\\n",
    " \\omega^{TT}(x, u_S) & = \\frac{1 - F_{P\\mid X=x}(u_S)}{E[P \\mid X = x]}\\\\\n",
    " \\omega^{TUT}(x, u_S) & = \\frac{F_{P\\mid X=x}(u_S)}{E[1 - P \\mid X = x]}\n",
    "\\end{align*}"
   ]
  },
  {
   "cell_type": "markdown",
   "metadata": {
    "slideshow": {
     "slide_type": "slide"
    }
   },
   "source": [
    "<img src=\"material/fig-weights-marginal-effect.png\">"
   ]
  },
  {
   "cell_type": "markdown",
   "metadata": {
    "slideshow": {
     "slide_type": "slide"
    }
   },
   "source": [
    "### Local Average Treatment Effect\n",
    "\n",
    "**Local Average Treatment Effect** Average effect for those induced to change treatment because of a change in the instrument.\n",
    "\n",
    "* instrument-dependet parameter\n",
    "\n",
    "**Marginal Treatment Effect** Average effect for those individuals with a given unobserved desire to receive treatment."
   ]
  },
  {
   "cell_type": "markdown",
   "metadata": {
    "slideshow": {
     "slide_type": "slide"
    }
   },
   "source": [
    "\\begin{align*}\n",
    "B^{LATE} = \\frac{E(Y\\mid Z = z) - E[Y \\mid Z = z^\\prime]}{P(X,Z) - P(X,Z^\\prime)}\n",
    "\\end{align*}"
   ]
  },
  {
   "cell_type": "markdown",
   "metadata": {
    "slideshow": {
     "slide_type": "slide"
    }
   },
   "source": [
    "\\begin{align*}\n",
    "B^{LATE}(x, u_S, u_{S^\\prime}) = \\frac{1}{u_S - u_{S^\\prime}} \\int_{u_S}^{u_{S^\\prime}} B^{MTE}(x, u) du,\n",
    "\\end{align*}"
   ]
  },
  {
   "cell_type": "markdown",
   "metadata": {
    "slideshow": {
     "slide_type": "slide"
    }
   },
   "source": [
    "<img src=\"material/fig-local-average-treatment.png\">"
   ]
  },
  {
   "cell_type": "markdown",
   "metadata": {
    "slideshow": {
     "slide_type": "slide"
    }
   },
   "source": [
    "### Distributional Effects of Treatment\n",
    "\n",
    "* Marginal Distribution of Benefits\n",
    "\n",
    "* Joint Distribution of Potential Outcomes\n",
    "\n",
    "* Joint Distribution of Benefits and Surplus"
   ]
  },
  {
   "cell_type": "markdown",
   "metadata": {
    "slideshow": {
     "slide_type": "slide"
    }
   },
   "source": [
    "<img src=\"material/fig-treatment-effects-benefits.png\">"
   ]
  },
  {
   "cell_type": "markdown",
   "metadata": {
    "slideshow": {
     "slide_type": "slide"
    }
   },
   "source": [
    "<img src=\"material/fig-distribution-potential.png\">"
   ]
  },
  {
   "cell_type": "markdown",
   "metadata": {
    "slideshow": {
     "slide_type": "slide"
    }
   },
   "source": [
    "<img src=\"material/fig-distribution-surplus.png\">"
   ]
  },
  {
   "cell_type": "markdown",
   "metadata": {
    "slideshow": {
     "slide_type": "slide"
    }
   },
   "source": [
    "## References"
   ]
  },
  {
   "cell_type": "code",
   "execution_count": null,
   "metadata": {
    "collapsed": true
   },
   "outputs": [],
   "source": []
  }
 ],
 "metadata": {
  "celltoolbar": "Slideshow",
  "kernelspec": {
   "display_name": "Python 3",
   "language": "python",
   "name": "python3"
  },
  "language_info": {
   "codemirror_mode": {
    "name": "ipython",
    "version": 3
   },
   "file_extension": ".py",
   "mimetype": "text/x-python",
   "name": "python",
   "nbconvert_exporter": "python",
   "pygments_lexer": "ipython3",
   "version": "3.5.2"
  }
 },
 "nbformat": 4,
 "nbformat_minor": 2
}
