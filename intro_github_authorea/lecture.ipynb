{
 "cells": [
  {
   "cell_type": "markdown",
   "metadata": {
    "slideshow": {
     "slide_type": "slide"
    }
   },
   "source": [
    "# Small Introduction to Github and Authorea\n"
   ]
  },
  {
   "cell_type": "markdown",
   "metadata": {
    "slideshow": {
     "slide_type": "slide"
    }
   },
   "source": [
    "## Git and GitHub\n",
    "\n",
    "\n",
    "* Git:\n",
    "    * Open source Version control project\n",
    "    \n",
    "    * Command line tool\n",
    "\n",
    "\n",
    "* GitHub?\n",
    "    * Git repository hosting service\n",
    "    \n",
    "    * Provides a Web-based graphical interface"
   ]
  },
  {
   "cell_type": "markdown",
   "metadata": {
    "slideshow": {
     "slide_type": "slide"
    }
   },
   "source": [
    "## Reasons for using Git\n",
    "\n",
    "**Git...**\n",
    "* ...is an easy way for tracking your working process.\n",
    "\n",
    "* ...improves collaborative workflows through...\n",
    "    * ...coordinating simultaneous work.\n",
    "\n",
    "    * ...offering a branch workflow (branches provide a isolated environment for every change on your project).\n",
    "    \n",
    "* ...helps to keep multiple machines in sync.\n",
    "\n",
    "* ...helps to make the structure of your workflow more comprehensible. \n"
   ]
  },
  {
   "cell_type": "markdown",
   "metadata": {
    "slideshow": {
     "slide_type": "slide"
    }
   },
   "source": [
    "## Install Git\n",
    "   \n",
    "* Install Git on the system of your choice:\n",
    "\n",
    "    * Windows: https://git-for-windows.github.io/\n",
    "    \n",
    "    * OS: https://git-scm.com/download/mac\n",
    "    \n",
    "    * Linux: Use your package manager\n",
    "\n",
    "\n",
    "   \n",
    "    \n",
    "\n"
   ]
  },
  {
   "cell_type": "markdown",
   "metadata": {
    "slideshow": {
     "slide_type": "slide"
    }
   },
   "source": [
    "## Some Examples\n",
    "\n",
    "\n",
    "Some small examples (clone, commit, create a new branch, merge changes ...)"
   ]
  },
  {
   "cell_type": "markdown",
   "metadata": {
    "slideshow": {
     "slide_type": "slide"
    }
   },
   "source": [
    "## Reasons for using GitHub\n",
    "\n",
    "* ** Github...**\n",
    "\n",
    "    * ...allows easy access to a broad spectrum of different types of projects/code.\n",
    "    \n",
    "    * ...offers the option to fork projects and modify it under your own account.\n",
    "    \n",
    "    * ...is able to host your own Git repository or your own personal website.\n",
    "   \n",
    "    * ...allows to download public repositories that include the whole history of a project.\n",
    "\n",
    "    * ...makes it easy to share your project with a huge band of potentially users.\n",
    "    \n",
    "* For this course:\n",
    "\n",
    "    * You have to sign in once to use all three main web tools of this course (Github/Gitter/Authorea)\n",
    "\n",
    "    * Access to the course material ;-)\n"
   ]
  },
  {
   "cell_type": "markdown",
   "metadata": {
    "slideshow": {
     "slide_type": "slide"
    }
   },
   "source": [
    "## Sign in and Download/Clone  the Course Material\n",
    "\n",
    "\n",
    "* Simply sign in with your email, a user name and a password on https://github.com\n",
    "\n",
    "* Navigate to the course repository via this [link](https://github.com/policyMetrics/course) or search for *policyMetrics/course* on GitHub \n",
    "\n",
    "* Manually:\n",
    "\n",
    "    * Use the  *Clone or download* button on the right side of the interface\n",
    "    \n",
    "    * Click on *Download ZIP*\n",
    "    \n",
    "    * Save and extract the ZIP file in the directory of your choice    \n",
    "    \n",
    "* via Git:\n",
    "    \n",
    "    * Copy the link that is provided by the green *Clone or download* button on the right side of the interface\n",
    "    \n",
    "    * type *git clone [link]* in your preferred git compatible shell\n"
   ]
  },
  {
   "cell_type": "markdown",
   "metadata": {
    "slideshow": {
     "slide_type": "slide"
    }
   },
   "source": [
    "## Authorea \n",
    "\n",
    "\n",
    "* [Authorea](https://www.authorea.com/) is an online platform for creating collaborative documents with a focus on technical and data-driven topics. \n",
    "\n",
    "* We will use the platform for the collaborative writing projects. \n",
    "\n",
    "* You should be able to sign in via your GitHub Account.\n",
    "\n",
    "* The comment feature will be used to provide feedback for your work/project by your fellow students.\n",
    "\n"
   ]
  },
  {
   "cell_type": "markdown",
   "metadata": {
    "slideshow": {
     "slide_type": "slide"
    }
   },
   "source": [
    "## Some Examples\n",
    "\n",
    "* We will explore some basic features of Authorea: \n",
    "   \n",
    "   * using LaTeX for formulas\n",
    "   \n",
    "   * implementing images\n",
    "   \n",
    "   * commenting projects\n",
    "   \n",
    "   * adding references\n",
    "\n",
    "* For more information see: [Authorea documentation](https://intercom.help/authorea)"
   ]
  },
  {
   "cell_type": "code",
   "execution_count": null,
   "metadata": {
    "collapsed": true
   },
   "outputs": [],
   "source": []
  }
 ],
 "metadata": {
  "celltoolbar": "Slideshow",
  "kernelspec": {
   "display_name": "Python 3",
   "language": "python",
   "name": "python3"
  },
  "language_info": {
   "codemirror_mode": {
    "name": "ipython",
    "version": 3
   },
   "file_extension": ".py",
   "mimetype": "text/x-python",
   "name": "python",
   "nbconvert_exporter": "python",
   "pygments_lexer": "ipython3",
   "version": "3.6.1"
  }
 },
 "nbformat": 4,
 "nbformat_minor": 2
}
