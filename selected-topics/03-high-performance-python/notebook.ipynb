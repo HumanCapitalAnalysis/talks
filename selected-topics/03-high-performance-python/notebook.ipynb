{
 "cells": [
  {
   "cell_type": "markdown",
   "metadata": {},
   "source": [
    "# High-performance computing in Python"
   ]
  },
  {
   "cell_type": "code",
   "execution_count": 1,
   "metadata": {},
   "outputs": [
    {
     "name": "stdout",
     "output_type": "stream",
     "text": [
      "running build\n",
      "running config_cc\n",
      "unifing config_cc, config, build_clib, build_ext, build commands --compiler options\n",
      "running config_fc\n",
      "unifing config_fc, config, build_clib, build_ext, build commands --fcompiler options\n",
      "running build_src\n",
      "build_src\n",
      "building extension \"ishigami_f2py\" sources\n",
      "f2py options: []\n",
      "f2py:> /tmp/tmpec8iet2x/src.linux-x86_64-3.7/ishigami_f2pymodule.c\n",
      "creating /tmp/tmpec8iet2x/src.linux-x86_64-3.7\n",
      "Reading fortran codes...\n",
      "\tReading file '/tmp/tmpbmdh7rv6.f90' (format:free)\n",
      "Post-processing...\n",
      "\tBlock: ishigami_f2py\n",
      "\t\t\tBlock: evalute_ishigami_f2py\n",
      "Post-processing (stage 2)...\n",
      "Building modules...\n",
      "\tBuilding module \"ishigami_f2py\"...\n",
      "\t\tCreating wrapper for Fortran subroutine \"evalute_ishigami_f2py\"(\"evalute_ishigami_f2py\")...\n",
      "\t\tConstructing wrapper function \"evalute_ishigami_f2py\"...\n",
      "\t\t  rslt = evalute_ishigami_f2py(inputs,num_evals)\n",
      "\tWrote C/API module \"ishigami_f2py\" to file \"/tmp/tmpec8iet2x/src.linux-x86_64-3.7/ishigami_f2pymodule.c\"\n",
      "\tFortran 77 wrappers are saved to \"/tmp/tmpec8iet2x/src.linux-x86_64-3.7/ishigami_f2py-f2pywrappers.f\"\n",
      "  adding '/tmp/tmpec8iet2x/src.linux-x86_64-3.7/fortranobject.c' to sources.\n",
      "  adding '/tmp/tmpec8iet2x/src.linux-x86_64-3.7' to include_dirs.\n",
      "copying /home/peisenha/.local/share/anaconda3/envs/teaching-talks/lib/python3.7/site-packages/numpy/f2py/src/fortranobject.c -> /tmp/tmpec8iet2x/src.linux-x86_64-3.7\n",
      "copying /home/peisenha/.local/share/anaconda3/envs/teaching-talks/lib/python3.7/site-packages/numpy/f2py/src/fortranobject.h -> /tmp/tmpec8iet2x/src.linux-x86_64-3.7\n",
      "  adding '/tmp/tmpec8iet2x/src.linux-x86_64-3.7/ishigami_f2py-f2pywrappers.f' to sources.\n",
      "build_src: building npy-pkg config files\n",
      "running build_ext\n",
      "customize UnixCCompiler\n",
      "C compiler: /home/peisenha/.local/share/anaconda3/envs/teaching-talks/bin/x86_64-conda_cos6-linux-gnu-cc -Wno-unused-result -Wsign-compare -DNDEBUG -fwrapv -O2 -Wall -Wstrict-prototypes -march=nocona -mtune=haswell -ftree-vectorize -fPIC -fstack-protector-strong -fno-plt -O2 -pipe -march=nocona -mtune=haswell -ftree-vectorize -fPIC -fstack-protector-strong -fno-plt -O2 -pipe -march=nocona -mtune=haswell -ftree-vectorize -fPIC -fstack-protector-strong -fno-plt -O2 -ffunction-sections -pipe -isystem /home/peisenha/.local/share/anaconda3/envs/teaching-talks/include -DNDEBUG -D_FORTIFY_SOURCE=2 -O2 -isystem /home/peisenha/.local/share/anaconda3/envs/teaching-talks/include -fPIC\n",
      "\n",
      "creating /tmp/tmpfuycltnt/tmp\n",
      "creating /tmp/tmpfuycltnt/tmp/tmpfuycltnt\n",
      "compile options: '-MMD -MF /tmp/tmpfuycltnt/file.c.d -c'\n",
      "x86_64-conda_cos6-linux-gnu-cc: /tmp/tmpfuycltnt/file.c\n",
      "customize UnixCCompiler using build_ext\n",
      "get_default_fcompiler: matching types: '['gnu95', 'intel', 'lahey', 'pg', 'absoft', 'nag', 'vast', 'compaq', 'intele', 'intelem', 'gnu', 'g95', 'pathf95', 'nagfor']'\n",
      "customize Gnu95FCompiler\n",
      "Found executable /home/peisenha/.local/share/anaconda3/envs/teaching-talks/bin/x86_64-conda_cos6-linux-gnu-gfortran\n",
      "Found executable /home/peisenha/.local/share/anaconda3/envs/teaching-talks/bin/x86_64-conda_cos6-linux-gnu-ld\n",
      "Found executable /home/peisenha/.local/share/anaconda3/envs/teaching-talks/bin/x86_64-conda_cos6-linux-gnu-ar\n",
      "Found executable /home/peisenha/.local/share/anaconda3/envs/teaching-talks/bin/x86_64-conda_cos6-linux-gnu-ranlib\n",
      "customize Gnu95FCompiler\n",
      "customize Gnu95FCompiler using build_ext\n",
      "building 'ishigami_f2py' extension\n",
      "compiling C sources\n",
      "C compiler: /home/peisenha/.local/share/anaconda3/envs/teaching-talks/bin/x86_64-conda_cos6-linux-gnu-cc -Wno-unused-result -Wsign-compare -DNDEBUG -fwrapv -O2 -Wall -Wstrict-prototypes -march=nocona -mtune=haswell -ftree-vectorize -fPIC -fstack-protector-strong -fno-plt -O2 -pipe -march=nocona -mtune=haswell -ftree-vectorize -fPIC -fstack-protector-strong -fno-plt -O2 -pipe -march=nocona -mtune=haswell -ftree-vectorize -fPIC -fstack-protector-strong -fno-plt -O2 -ffunction-sections -pipe -isystem /home/peisenha/.local/share/anaconda3/envs/teaching-talks/include -DNDEBUG -D_FORTIFY_SOURCE=2 -O2 -isystem /home/peisenha/.local/share/anaconda3/envs/teaching-talks/include -fPIC\n",
      "\n",
      "creating /tmp/tmpec8iet2x/tmp\n",
      "creating /tmp/tmpec8iet2x/tmp/tmpec8iet2x\n",
      "creating /tmp/tmpec8iet2x/tmp/tmpec8iet2x/src.linux-x86_64-3.7\n",
      "compile options: '-I/tmp/tmpec8iet2x/src.linux-x86_64-3.7 -I/home/peisenha/.local/share/anaconda3/envs/teaching-talks/lib/python3.7/site-packages/numpy/core/include -I/home/peisenha/.local/share/anaconda3/envs/teaching-talks/include/python3.7m -c'\n",
      "x86_64-conda_cos6-linux-gnu-cc: /tmp/tmpec8iet2x/src.linux-x86_64-3.7/fortranobject.c\n",
      "x86_64-conda_cos6-linux-gnu-cc: /tmp/tmpec8iet2x/src.linux-x86_64-3.7/ishigami_f2pymodule.c\n",
      "compiling Fortran sources\n",
      "Fortran f77 compiler: /home/peisenha/.local/share/anaconda3/envs/teaching-talks/bin/x86_64-conda_cos6-linux-gnu-gfortran -Wall -g -ffixed-form -fno-second-underscore -fPIC -fopenmp -march=nocona -mtune=haswell -ftree-vectorize -fPIC -fstack-protector-strong -fno-plt -O2 -ffunction-sections -pipe -isystem /home/peisenha/.local/share/anaconda3/envs/teaching-talks/include -O3 -funroll-loops\n",
      "Fortran f90 compiler: /home/peisenha/.local/share/anaconda3/envs/teaching-talks/bin/x86_64-conda_cos6-linux-gnu-gfortran -Wall -g -fno-second-underscore -fPIC -fopenmp -march=nocona -mtune=haswell -ftree-vectorize -fPIC -fstack-protector-strong -fno-plt -O2 -ffunction-sections -pipe -isystem /home/peisenha/.local/share/anaconda3/envs/teaching-talks/include -O3 -funroll-loops\n",
      "Fortran fix compiler: /home/peisenha/.local/share/anaconda3/envs/teaching-talks/bin/x86_64-conda_cos6-linux-gnu-gfortran -Wall -g -ffixed-form -fno-second-underscore -Wall -g -fno-second-underscore -fPIC -fopenmp -march=nocona -mtune=haswell -ftree-vectorize -fPIC -fstack-protector-strong -fno-plt -O2 -ffunction-sections -pipe -isystem /home/peisenha/.local/share/anaconda3/envs/teaching-talks/include -O3 -funroll-loops\n",
      "compile options: '-I/tmp/tmpec8iet2x/src.linux-x86_64-3.7 -I/home/peisenha/.local/share/anaconda3/envs/teaching-talks/lib/python3.7/site-packages/numpy/core/include -I/home/peisenha/.local/share/anaconda3/envs/teaching-talks/include/python3.7m -c'\n",
      "x86_64-conda_cos6-linux-gnu-gfortran:f90: /tmp/tmpbmdh7rv6.f90\n",
      "x86_64-conda_cos6-linux-gnu-gfortran:f77: /tmp/tmpec8iet2x/src.linux-x86_64-3.7/ishigami_f2py-f2pywrappers.f\n",
      "/home/peisenha/.local/share/anaconda3/envs/teaching-talks/bin/x86_64-conda_cos6-linux-gnu-gfortran -Wall -g -Wall -g -shared -Wl,-O2 -Wl,--sort-common -Wl,--as-needed -Wl,-z,relro -Wl,-z,now -Wl,--disable-new-dtags -Wl,--gc-sections -Wl,-rpath,/home/peisenha/.local/share/anaconda3/envs/teaching-talks/lib -Wl,-rpath-link,/home/peisenha/.local/share/anaconda3/envs/teaching-talks/lib -L/home/peisenha/.local/share/anaconda3/envs/teaching-talks/lib /tmp/tmpec8iet2x/tmp/tmpec8iet2x/src.linux-x86_64-3.7/ishigami_f2pymodule.o /tmp/tmpec8iet2x/tmp/tmpec8iet2x/src.linux-x86_64-3.7/fortranobject.o /tmp/tmpec8iet2x/tmp/tmpbmdh7rv6.o /tmp/tmpec8iet2x/tmp/tmpec8iet2x/src.linux-x86_64-3.7/ishigami_f2py-f2pywrappers.o -L/home/peisenha/.local/share/anaconda3/envs/teaching-talks/bin/../x86_64-conda_cos6-linux-gnu/sysroot/lib/../lib -L/home/peisenha/.local/share/anaconda3/envs/teaching-talks/bin/../x86_64-conda_cos6-linux-gnu/sysroot/lib/../lib -lgfortran -o ./ishigami_f2py.cpython-37m-x86_64-linux-gnu.so\n",
      "Removing build directory /tmp/tmpec8iet2x\n",
      "\n"
     ]
    }
   ],
   "source": [
    "from functools import partial\n",
    "import multiprocessing as mp\n",
    "import itertools\n",
    "import sys\n",
    "import os\n",
    "\n",
    "sys.path.insert(0, \"../02-sensitivity-analysis/python\")\n",
    "sys.path.insert(0, \"src\")\n",
    "\n",
    "import matplotlib.pyplot as plt\n",
    "from numpy import f2py\n",
    "import numpy as np\n",
    "\n",
    "from ishigami import compute_simulation_total_effect\n",
    "from ishigami import compute_simulation_main_effect\n",
    "from ishigami import evaluate_ishigami_readable\n",
    "from ishigami import evaluate_ishigami_vectorized\n",
    "\n",
    "from auxiliary import evaluate_ishigami_readable_loop\n",
    "from auxiliary import evaluate_ishigami_numba_loop\n",
    "from auxiliary import task_mp_no_communication\n",
    "from auxiliary import task_mp_management\n",
    "from auxiliary import task_mp_queue\n",
    "from functools import partial"
   ]
  },
  {
   "cell_type": "markdown",
   "metadata": {},
   "source": [
    "We can compare the implementation of a for loop with a vectorized counterparts for a set of random input parameters."
   ]
  },
  {
   "cell_type": "code",
   "execution_count": null,
   "metadata": {},
   "outputs": [],
   "source": [
    "num_draws = 1000\n",
    "inputs = np.random.uniform(low=-np.pi, high=np.pi, size=(num_draws, 3))"
   ]
  },
  {
   "cell_type": "markdown",
   "metadata": {},
   "source": [
    "## Pure Python and peformand scientific libraries"
   ]
  },
  {
   "cell_type": "code",
   "execution_count": null,
   "metadata": {},
   "outputs": [],
   "source": [
    "np.testing.assert_almost_equal(evaluate_ishigami_readable_loop(inputs), evaluate_ishigami_vectorized(inputs))\n",
    "\n",
    "%timeit evaluate_ishigami_readable_loop(inputs)\n",
    "%timeit evaluate_ishigami_vectorized(inputs)"
   ]
  },
  {
   "cell_type": "markdown",
   "metadata": {},
   "source": [
    "## Compilation"
   ]
  },
  {
   "cell_type": "markdown",
   "metadata": {},
   "source": [
    "* just-in-time "
   ]
  },
  {
   "cell_type": "code",
   "execution_count": 10,
   "metadata": {},
   "outputs": [
    {
     "name": "stdout",
     "output_type": "stream",
     "text": [
      "7.44 ms ± 492 µs per loop (mean ± std. dev. of 7 runs, 100 loops each)\n",
      "41.8 µs ± 321 ns per loop (mean ± std. dev. of 7 runs, 10000 loops each)\n"
     ]
    }
   ],
   "source": [
    "np.testing.assert_almost_equal(evaluate_ishigami_numba_loop(inputs), evaluate_ishigami_vectorized(inputs))\n",
    "\n",
    "%timeit evaluate_ishigami_readable_loop(inputs)\n",
    "%timeit evaluate_ishigami_numba_loop(inputs)"
   ]
  },
  {
   "cell_type": "markdown",
   "metadata": {},
   "source": [
    "* ahead-of-time"
   ]
  },
  {
   "cell_type": "code",
   "execution_count": 7,
   "metadata": {},
   "outputs": [
    {
     "name": "stdout",
     "output_type": "stream",
     "text": [
      "\n"
     ]
    },
    {
     "data": {
      "text/plain": [
       "1"
      ]
     },
     "execution_count": 7,
     "metadata": {},
     "output_type": "execute_result"
    }
   ],
   "source": [
    "src = open('src/ishigami.f90', 'rb').read()\n",
    "f2py.compile(src, 'ishigami_f2py', \"\", extension='.f90')\n",
    "assert f2py.compile(src, 'ishigami_f2py', \"\", extension='.f90') == 0"
   ]
  },
  {
   "cell_type": "code",
   "execution_count": 23,
   "metadata": {},
   "outputs": [],
   "source": [
    "from auxiliary import evaluate_ishigami_f2py_loop"
   ]
  },
  {
   "cell_type": "code",
   "execution_count": 24,
   "metadata": {},
   "outputs": [
    {
     "name": "stdout",
     "output_type": "stream",
     "text": [
      "7.39 ms ± 621 µs per loop (mean ± std. dev. of 7 runs, 100 loops each)\n",
      "32.3 µs ± 727 ns per loop (mean ± std. dev. of 7 runs, 10000 loops each)\n"
     ]
    }
   ],
   "source": [
    "np.testing.assert_almost_equal(evaluate_ishigami_f2py_loop(inputs), evaluate_ishigami_vectorized(inputs))\n",
    "\n",
    "%timeit evaluate_ishigami_readable_loop(inputs)\n",
    "%timeit evaluate_ishigami_f2py_loop(inputs)"
   ]
  },
  {
   "cell_type": "markdown",
   "metadata": {
    "toc-hr-collapsed": false
   },
   "source": [
    "## Parallel processing\n",
    "\n",
    "We first want to get a sense how many CPU's we have available."
   ]
  },
  {
   "cell_type": "code",
   "execution_count": null,
   "metadata": {},
   "outputs": [],
   "source": [
    "print(f\"Number of cpu : {mp.cpu_count()}\")"
   ]
  },
  {
   "cell_type": "markdown",
   "metadata": {},
   "source": [
    "### mp.Process\n",
    "\n",
    "* without communication"
   ]
  },
  {
   "cell_type": "code",
   "execution_count": null,
   "metadata": {},
   "outputs": [],
   "source": [
    "num_outer = num_inner = 100\n",
    "task_partial = partial(task_mp_no_communication, num_outer, num_inner)"
   ]
  },
  {
   "cell_type": "code",
   "execution_count": null,
   "metadata": {},
   "outputs": [],
   "source": [
    "processes = list()\n",
    "for which in range(3):\n",
    "    p = mp.Process(target=task_partial, args=(which, ))\n",
    "    processes.append(p)\n",
    "\n",
    "# We can execute our work.\n",
    "[p.start() for p in processes]\n",
    "[p.join() for p in processes];"
   ]
  },
  {
   "cell_type": "markdown",
   "metadata": {},
   "source": [
    "* with communication"
   ]
  },
  {
   "cell_type": "code",
   "execution_count": null,
   "metadata": {},
   "outputs": [],
   "source": [
    "# We need to prepare a container for communication. One\n",
    "# alternative is to derine a shared variable.\n",
    "qout = mp.Queue()\n",
    "\n",
    "# We can partial out most function arguments\n",
    "task_partial = partial(task_mp_queue, num_outer, num_inner, qout)"
   ]
  },
  {
   "cell_type": "code",
   "execution_count": null,
   "metadata": {},
   "outputs": [],
   "source": [
    "# We can prepare our work.\n",
    "processes = []\n",
    "for which in range(3):\n",
    "    p = mp.Process(target=task_partial, args=(which, ))\n",
    "    processes.append(p)\n",
    "    \n",
    "# We can execute our work.\n",
    "[p.start() for p in processes]\n",
    "[p.join() for p in processes]\n",
    "    \n",
    "# We need to ensure that we have a unique\n",
    "# order of the results.\n",
    "unsorted_result = [qout.get() for p in processes]\n",
    "result = [t[1] for t in sorted(unsorted_result)] \n",
    "print(result)"
   ]
  },
  {
   "cell_type": "markdown",
   "metadata": {},
   "source": [
    "### mp.Pool"
   ]
  },
  {
   "cell_type": "code",
   "execution_count": null,
   "metadata": {},
   "outputs": [],
   "source": [
    "task_partial = partial(task_mp_no_communication, num_outer, num_inner)\n",
    "\n",
    "pool = mp.Pool(processes=3)\n",
    "pool.map(task_partial, range(3))\n",
    "\n",
    "pool.close()\n",
    "pool.join()"
   ]
  },
  {
   "cell_type": "code",
   "execution_count": null,
   "metadata": {},
   "outputs": [],
   "source": [
    "task_partial = partial(task_mp_management, num_outer, num_inner)\n",
    "\n",
    "tasks = list(itertools.product([\"main\", \"total\"], range(3)))\n",
    "\n",
    "pool = mp.Pool(processes=3)\n",
    "rslt = pool.map(task_partial, tasks)\n",
    "\n",
    "pool.close()\n",
    "pool.join()"
   ]
  },
  {
   "cell_type": "markdown",
   "metadata": {},
   "source": [
    "## Distributed computing\n",
    "\n",
    "See scripts in repository."
   ]
  }
 ],
 "metadata": {
  "kernelspec": {
   "display_name": "Python 3",
   "language": "python",
   "name": "python3"
  },
  "language_info": {
   "codemirror_mode": {
    "name": "ipython",
    "version": 3
   },
   "file_extension": ".py",
   "mimetype": "text/x-python",
   "name": "python",
   "nbconvert_exporter": "python",
   "pygments_lexer": "ipython3",
   "version": "3.7.6"
  }
 },
 "nbformat": 4,
 "nbformat_minor": 4
}
