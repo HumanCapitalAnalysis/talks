{
 "cells": [
  {
   "cell_type": "markdown",
   "metadata": {},
   "source": [
    "# Multiprocessing\n",
    "\n"
   ]
  },
  {
   "cell_type": "code",
   "execution_count": 1,
   "metadata": {},
   "outputs": [],
   "source": [
    "import itertools\n",
    "import sys\n",
    "import os\n",
    "\n",
    "\n",
    "sys.path.insert(0, \"../02-sensitivity-analysis/python\")\n",
    "\n",
    "import multiprocessing as mp\n",
    "import numpy as np\n",
    "import matplotlib.pyplot as plt\n",
    "from ishigami import *\n",
    "from functools import partial"
   ]
  },
  {
   "cell_type": "markdown",
   "metadata": {},
   "source": [
    "## Vectorization"
   ]
  },
  {
   "cell_type": "code",
   "execution_count": 2,
   "metadata": {},
   "outputs": [
    {
     "name": "stdout",
     "output_type": "stream",
     "text": [
      "644 µs ± 20.6 µs per loop (mean ± std. dev. of 7 runs, 1000 loops each)\n",
      "19.1 µs ± 484 ns per loop (mean ± std. dev. of 7 runs, 100000 loops each)\n"
     ]
    }
   ],
   "source": [
    "seed, num_draws = 1, 100\n",
    "np.random.seed(seed)\n",
    "inputs = np.random.uniform(low=-np.pi, high=np.pi, size=(num_draws, 3))\n",
    "\n",
    "def evaluate_ishigami_loop(inputs):\n",
    "    for input_ in inputs:\n",
    "        evaluate_ishigami_readable(input_)\n",
    "\n",
    "%timeit evaluate_ishigami_loop(inputs)\n",
    "%timeit evaluate_ishigami(inputs)"
   ]
  },
  {
   "cell_type": "markdown",
   "metadata": {},
   "source": [
    "## Multiprocessing\n",
    "We first want to get a sense how many CPU's we have available."
   ]
  },
  {
   "cell_type": "code",
   "execution_count": 3,
   "metadata": {},
   "outputs": [
    {
     "name": "stdout",
     "output_type": "stream",
     "text": [
      "Number of cpu : 4\n"
     ]
    }
   ],
   "source": [
    "print(f\"Number of cpu : {mp.cpu_count()}\")"
   ]
  },
  {
   "cell_type": "code",
   "execution_count": 4,
   "metadata": {},
   "outputs": [],
   "source": [
    "# show groups of processes working on total and main effects., mpi worker setup nicely done as well as task differs."
   ]
  },
  {
   "cell_type": "markdown",
   "metadata": {},
   "source": [
    "## mp.Process\n",
    "\n",
    "* without communication"
   ]
  },
  {
   "cell_type": "code",
   "execution_count": 5,
   "metadata": {},
   "outputs": [
    {
     "name": "stdout",
     "output_type": "stream",
     "text": [
      "... started on input parameter 0\n",
      "... started on input parameter 1\n",
      "... started on input parameter 2\n",
      "... finished input parameter 2\n",
      "... finished input parameter 0\n",
      "... finished input parameter 1\n"
     ]
    }
   ],
   "source": [
    "num_outer, num_inner = 10000, 1000\n",
    "\n",
    "import multiprocessing\n",
    "\n",
    "def task(num_outer, num_inner, which):\n",
    "    \n",
    "    print(f\"... started on input parameter {which}\")\n",
    "    rslt = compute_simulation_main_effect(num_outer, num_inner, which)\n",
    "    print(f\"... finished input parameter {which}\")\n",
    "\n",
    "if __name__ == '__main__':\n",
    "    jobs = []\n",
    "    for which in range(3):\n",
    "        p = mp.Process(target=task, args=(num_outer, num_inner, which))\n",
    "        jobs.append(p)\n",
    "        p.start()"
   ]
  },
  {
   "cell_type": "markdown",
   "metadata": {},
   "source": [
    "* with communication"
   ]
  },
  {
   "cell_type": "code",
   "execution_count": 6,
   "metadata": {},
   "outputs": [
    {
     "name": "stdout",
     "output_type": "stream",
     "text": [
      "[0.31568004510111963, 0.45194103402865243, 0.0010100507352421427]\n"
     ]
    }
   ],
   "source": [
    "def task(num_outer, num_inner, which, qout):\n",
    "    rslt = compute_simulation_main_effect(num_outer, num_inner, which)\n",
    "    qout.put((which, rslt))\n",
    "\n",
    "if __name__ == '__main__':\n",
    "    \n",
    "    processes = []\n",
    "    qout = mp.Queue()\n",
    "    \n",
    "    for which in range(3):\n",
    "        p = mp.Process(target=task, args=(num_outer, num_inner, which, qout))\n",
    "        processes.append(p)\n",
    "        \n",
    "    for p in processes:\n",
    "        p.start()\n",
    "\n",
    "    for p in processes:\n",
    "        p.join()\n",
    "        \n",
    "    unsorted_result = [qout.get() for p in processes]\n",
    "    result = [t[1] for t in sorted(unsorted_result)] \n",
    "    print(result)"
   ]
  },
  {
   "cell_type": "markdown",
   "metadata": {},
   "source": [
    "## mp.Pool"
   ]
  },
  {
   "cell_type": "code",
   "execution_count": 8,
   "metadata": {},
   "outputs": [
    {
     "name": "stdout",
     "output_type": "stream",
     "text": [
      "... started on input parameter 0\n",
      "... started on input parameter 1\n",
      "... started on input parameter 2\n",
      "... finished input parameter 2\n",
      "... finished input parameter 0\n",
      "... finished input parameter 1\n"
     ]
    }
   ],
   "source": [
    "def task(num_outer, num_inner, which):\n",
    "    \n",
    "    print(f\"... started on input parameter {which}\")\n",
    "    rslt = compute_simulation_main_effect(num_outer, num_inner, which)\n",
    "    print(f\"... finished input parameter {which}\")\n",
    "    \n",
    "pool = mp.Pool(processes = 3)\n",
    "task_partial = partial(task, num_outer, num_inner)\n",
    "pool.map(task_partial, range(3))\n",
    "\n",
    "pool.close()\n",
    "pool.join()"
   ]
  },
  {
   "cell_type": "code",
   "execution_count": 33,
   "metadata": {},
   "outputs": [
    {
     "name": "stdout",
     "output_type": "stream",
     "text": [
      "working on main effect for input 0\n",
      "working on main effect for input 1\n",
      "working on main effect for input 2\n",
      "working on total effect for input 0\n",
      "working on total effect for input 1\n",
      "working on total effect for input 2\n"
     ]
    }
   ],
   "source": [
    "def task_manager(num_outer, num_inner, task):\n",
    "    label, which = task\n",
    "    print(f\"working on {label} effect for input {which}\")\n",
    "    if label == \"main\":\n",
    "        return compute_simulation_main_effect(num_outer, num_inner, which)\n",
    "    elif label == \"total\":\n",
    "        return compute_simulation_total_effect(num_outer, num_inner, which)\n",
    "    else:\n",
    "        raise NotImplementedError\n",
    "\n",
    "tasks = list(itertools.product([\"main\", \"total\"], range(3)))\n",
    "\n",
    "task_manager_partial = partial(task_manager, num_outer, num_inner)\n",
    "\n",
    "pool = mp.Pool(processes = 3)\n",
    "rslt = pool.map(task_manager_partial, tasks)\n",
    "\n",
    "pool.close()\n",
    "pool.join()"
   ]
  },
  {
   "cell_type": "code",
   "execution_count": 34,
   "metadata": {},
   "outputs": [
    {
     "data": {
      "text/plain": [
       "[0.31568004510111963,\n",
       " 0.45194103402865243,\n",
       " 0.0010100507352421427,\n",
       " 0.5560154110550138,\n",
       " 0.4445671468004033,\n",
       " 0.24627081586804012]"
      ]
     },
     "execution_count": 34,
     "metadata": {},
     "output_type": "execute_result"
    }
   ],
   "source": [
    "rslt"
   ]
  },
  {
   "cell_type": "markdown",
   "metadata": {},
   "source": [
    "## References\n",
    "\n",
    "* https://www.journaldev.com/15631/python-multiprocessing-example#python-multiprocessing-process-queue-and-locks\n",
    "\n",
    "* https://pymotw.com/2/multiprocessing/basics.html"
   ]
  }
 ],
 "metadata": {
  "kernelspec": {
   "display_name": "Python 3",
   "language": "python",
   "name": "python3"
  },
  "language_info": {
   "codemirror_mode": {
    "name": "ipython",
    "version": 3
   },
   "file_extension": ".py",
   "mimetype": "text/x-python",
   "name": "python",
   "nbconvert_exporter": "python",
   "pygments_lexer": "ipython3",
   "version": "3.7.3"
  }
 },
 "nbformat": 4,
 "nbformat_minor": 4
}
