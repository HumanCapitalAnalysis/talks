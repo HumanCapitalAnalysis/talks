{
 "cells": [
  {
   "cell_type": "markdown",
   "metadata": {},
   "source": [
    "# High-performance computing in Python"
   ]
  },
  {
   "cell_type": "code",
   "execution_count": 5,
   "metadata": {},
   "outputs": [
    {
     "name": "stdout",
     "output_type": "stream",
     "text": [
      "\n"
     ]
    },
    {
     "ename": "ModuleNotFoundError",
     "evalue": "No module named 'ishigami_f2py'",
     "output_type": "error",
     "traceback": [
      "\u001b[0;31m---------------------------------------------------------------------------\u001b[0m",
      "\u001b[0;31mModuleNotFoundError\u001b[0m                       Traceback (most recent call last)",
      "\u001b[0;32m<ipython-input-5-040dbfdd5892>\u001b[0m in \u001b[0;36m<module>\u001b[0;34m\u001b[0m\n\u001b[1;32m     17\u001b[0m \u001b[0;32mfrom\u001b[0m \u001b[0mishigami\u001b[0m \u001b[0;32mimport\u001b[0m \u001b[0mevaluate_ishigami\u001b[0m\u001b[0;34m\u001b[0m\u001b[0;34m\u001b[0m\u001b[0m\n\u001b[1;32m     18\u001b[0m \u001b[0;34m\u001b[0m\u001b[0m\n\u001b[0;32m---> 19\u001b[0;31m \u001b[0;32mfrom\u001b[0m \u001b[0mauxiliary\u001b[0m \u001b[0;32mimport\u001b[0m \u001b[0mevaluate_ishigami_readable_loop\u001b[0m\u001b[0;34m\u001b[0m\u001b[0;34m\u001b[0m\u001b[0m\n\u001b[0m\u001b[1;32m     20\u001b[0m \u001b[0;32mfrom\u001b[0m \u001b[0mauxiliary\u001b[0m \u001b[0;32mimport\u001b[0m \u001b[0mevaluate_ishigami_numba_loop\u001b[0m\u001b[0;34m\u001b[0m\u001b[0;34m\u001b[0m\u001b[0m\n\u001b[1;32m     21\u001b[0m \u001b[0;32mfrom\u001b[0m \u001b[0mauxiliary\u001b[0m \u001b[0;32mimport\u001b[0m \u001b[0mtask_mp_no_communication\u001b[0m\u001b[0;34m\u001b[0m\u001b[0;34m\u001b[0m\u001b[0m\n",
      "\u001b[0;32m~/external_storage/ownCloud/office/HumanCapitalAnalysis/talks/public/selected-topics/03-high-performance-python/src/auxiliary.py\u001b[0m in \u001b[0;36m<module>\u001b[0;34m\u001b[0m\n\u001b[1;32m     15\u001b[0m \u001b[0msrc\u001b[0m \u001b[0;34m=\u001b[0m \u001b[0mopen\u001b[0m\u001b[0;34m(\u001b[0m\u001b[0;34m'src/ishigami.f90'\u001b[0m\u001b[0;34m,\u001b[0m \u001b[0;34m'rb'\u001b[0m\u001b[0;34m)\u001b[0m\u001b[0;34m.\u001b[0m\u001b[0mread\u001b[0m\u001b[0;34m(\u001b[0m\u001b[0;34m)\u001b[0m\u001b[0;34m\u001b[0m\u001b[0;34m\u001b[0m\u001b[0m\n\u001b[1;32m     16\u001b[0m \u001b[0mf2py\u001b[0m\u001b[0;34m.\u001b[0m\u001b[0mcompile\u001b[0m\u001b[0;34m(\u001b[0m\u001b[0msrc\u001b[0m\u001b[0;34m,\u001b[0m \u001b[0;34m'ishigami_f2py'\u001b[0m\u001b[0;34m,\u001b[0m \u001b[0;34m\"\"\u001b[0m\u001b[0;34m,\u001b[0m \u001b[0mextension\u001b[0m\u001b[0;34m=\u001b[0m\u001b[0;34m'.f90'\u001b[0m\u001b[0;34m)\u001b[0m\u001b[0;34m\u001b[0m\u001b[0;34m\u001b[0m\u001b[0m\n\u001b[0;32m---> 17\u001b[0;31m \u001b[0;32mfrom\u001b[0m \u001b[0mishigami_f2py\u001b[0m \u001b[0;32mimport\u001b[0m \u001b[0mevalute_ishigami_f2py\u001b[0m\u001b[0;34m\u001b[0m\u001b[0;34m\u001b[0m\u001b[0m\n\u001b[0m\u001b[1;32m     18\u001b[0m \u001b[0;34m\u001b[0m\u001b[0m\n\u001b[1;32m     19\u001b[0m \u001b[0;34m\u001b[0m\u001b[0m\n",
      "\u001b[0;31mModuleNotFoundError\u001b[0m: No module named 'ishigami_f2py'"
     ]
    }
   ],
   "source": [
    "from functools import partial\n",
    "import multiprocessing as mp\n",
    "import itertools\n",
    "import sys\n",
    "import os\n",
    "\n",
    "sys.path.insert(0, \"../02-sensitivity-analysis/python\")\n",
    "sys.path.insert(0, \"src\")\n",
    "\n",
    "import matplotlib.pyplot as plt\n",
    "from numpy import f2py\n",
    "import numpy as np\n",
    "\n",
    "from ishigami import compute_simulation_total_effect\n",
    "from ishigami import compute_simulation_main_effect\n",
    "from ishigami import evaluate_ishigami_readable\n",
    "from ishigami import evaluate_ishigami\n",
    "\n",
    "from auxiliary import evaluate_ishigami_readable_loop\n",
    "from auxiliary import evaluate_ishigami_numba_loop\n",
    "from auxiliary import task_mp_no_communication\n",
    "from auxiliary import task_mp_management\n",
    "from auxiliary import task_mp_queue\n",
    "from functools import partial"
   ]
  },
  {
   "cell_type": "markdown",
   "metadata": {},
   "source": [
    "We can compare the implementation of a for loop with a vectorized counterparts for a set of random input parameters."
   ]
  },
  {
   "cell_type": "code",
   "execution_count": null,
   "metadata": {},
   "outputs": [],
   "source": [
    "num_draws = 1000\n",
    "inputs = np.random.uniform(low=-np.pi, high=np.pi, size=(num_draws, 3))"
   ]
  },
  {
   "cell_type": "markdown",
   "metadata": {},
   "source": [
    "## Pure Python and peformand scientific libraries"
   ]
  },
  {
   "cell_type": "code",
   "execution_count": null,
   "metadata": {},
   "outputs": [],
   "source": [
    "np.testing.assert_almost_equal(evaluate_ishigami_readable_loop(inputs), evaluate_ishigami(inputs))\n",
    "\n",
    "%timeit evaluate_ishigami_readable_loop(inputs)\n",
    "%timeit evaluate_ishigami(inputs)"
   ]
  },
  {
   "cell_type": "markdown",
   "metadata": {},
   "source": [
    "## Compilation"
   ]
  },
  {
   "cell_type": "markdown",
   "metadata": {},
   "source": [
    "* just-in-time "
   ]
  },
  {
   "cell_type": "code",
   "execution_count": 10,
   "metadata": {},
   "outputs": [
    {
     "name": "stdout",
     "output_type": "stream",
     "text": [
      "7.44 ms ± 492 µs per loop (mean ± std. dev. of 7 runs, 100 loops each)\n",
      "41.8 µs ± 321 ns per loop (mean ± std. dev. of 7 runs, 10000 loops each)\n"
     ]
    }
   ],
   "source": [
    "np.testing.assert_almost_equal(evaluate_ishigami_numba_loop(inputs), evaluate_ishigami(inputs))\n",
    "\n",
    "%timeit evaluate_ishigami_readable_loop(inputs)\n",
    "%timeit evaluate_ishigami_numba_loop(inputs)"
   ]
  },
  {
   "cell_type": "markdown",
   "metadata": {},
   "source": [
    "* ahead-of-time"
   ]
  },
  {
   "cell_type": "code",
   "execution_count": 7,
   "metadata": {},
   "outputs": [
    {
     "name": "stdout",
     "output_type": "stream",
     "text": [
      "\n"
     ]
    },
    {
     "data": {
      "text/plain": [
       "1"
      ]
     },
     "execution_count": 7,
     "metadata": {},
     "output_type": "execute_result"
    }
   ],
   "source": [
    "src = open('src/ishigami.f90', 'rb').read()\n",
    "f2py.compile(src, 'ishigami_f2py', \"\", extension='.f90')\n",
    "#assert f2py.compile(src, 'ishigami_f2py', \"\", extension='.f90') == 0"
   ]
  },
  {
   "cell_type": "code",
   "execution_count": 23,
   "metadata": {},
   "outputs": [],
   "source": [
    "from auxiliary import evaluate_ishigami_f2py_loop"
   ]
  },
  {
   "cell_type": "code",
   "execution_count": 24,
   "metadata": {},
   "outputs": [
    {
     "name": "stdout",
     "output_type": "stream",
     "text": [
      "7.39 ms ± 621 µs per loop (mean ± std. dev. of 7 runs, 100 loops each)\n",
      "32.3 µs ± 727 ns per loop (mean ± std. dev. of 7 runs, 10000 loops each)\n"
     ]
    }
   ],
   "source": [
    "np.testing.assert_almost_equal(evaluate_ishigami_f2py_loop(inputs), evaluate_ishigami(inputs))\n",
    "\n",
    "%timeit evaluate_ishigami_readable_loop(inputs)\n",
    "%timeit evaluate_ishigami_f2py_loop(inputs)"
   ]
  },
  {
   "cell_type": "markdown",
   "metadata": {
    "toc-hr-collapsed": false
   },
   "source": [
    "## Parallel processing\n",
    "\n",
    "We first want to get a sense how many CPU's we have available."
   ]
  },
  {
   "cell_type": "code",
   "execution_count": null,
   "metadata": {},
   "outputs": [],
   "source": [
    "print(f\"Number of cpu : {mp.cpu_count()}\")"
   ]
  },
  {
   "cell_type": "markdown",
   "metadata": {},
   "source": [
    "### mp.Process\n",
    "\n",
    "* without communication"
   ]
  },
  {
   "cell_type": "code",
   "execution_count": null,
   "metadata": {},
   "outputs": [],
   "source": [
    "num_outer = num_inner = 100\n",
    "task_partial = partial(task_mp_no_communication, num_outer, num_inner)"
   ]
  },
  {
   "cell_type": "code",
   "execution_count": null,
   "metadata": {},
   "outputs": [],
   "source": [
    "processes = list()\n",
    "for which in range(3):\n",
    "    p = mp.Process(target=task_partial, args=(which, ))\n",
    "    processes.append(p)\n",
    "\n",
    "# We can execute our work.\n",
    "[p.start() for p in processes]\n",
    "[p.join() for p in processes];"
   ]
  },
  {
   "cell_type": "markdown",
   "metadata": {},
   "source": [
    "* with communication"
   ]
  },
  {
   "cell_type": "code",
   "execution_count": null,
   "metadata": {},
   "outputs": [],
   "source": [
    "# We need to prepare a container for communication. One\n",
    "# alternative is to derine a shared variable.\n",
    "qout = mp.Queue()\n",
    "\n",
    "# We can partial out most function arguments\n",
    "task_partial = partial(task_mp_queue, num_outer, num_inner, qout)"
   ]
  },
  {
   "cell_type": "code",
   "execution_count": null,
   "metadata": {},
   "outputs": [],
   "source": [
    "# We can prepare our work.\n",
    "processes = []\n",
    "for which in range(3):\n",
    "    p = mp.Process(target=task_partial, args=(which, ))\n",
    "    processes.append(p)\n",
    "    \n",
    "# We can execute our work.\n",
    "[p.start() for p in processes]\n",
    "[p.join() for p in processes]\n",
    "    \n",
    "# We need to ensure that we have a unique\n",
    "# order of the results.\n",
    "unsorted_result = [qout.get() for p in processes]\n",
    "result = [t[1] for t in sorted(unsorted_result)] \n",
    "print(result)"
   ]
  },
  {
   "cell_type": "markdown",
   "metadata": {},
   "source": [
    "### mp.Pool"
   ]
  },
  {
   "cell_type": "code",
   "execution_count": null,
   "metadata": {},
   "outputs": [],
   "source": [
    "task_partial = partial(task_mp_no_communication, num_outer, num_inner)\n",
    "\n",
    "pool = mp.Pool(processes=3)\n",
    "pool.map(task_partial, range(3))\n",
    "\n",
    "pool.close()\n",
    "pool.join()"
   ]
  },
  {
   "cell_type": "code",
   "execution_count": null,
   "metadata": {},
   "outputs": [],
   "source": [
    "task_partial = partial(task_mp_management, num_outer, num_inner)\n",
    "\n",
    "tasks = list(itertools.product([\"main\", \"total\"], range(3)))\n",
    "\n",
    "pool = mp.Pool(processes=3)\n",
    "rslt = pool.map(task_partial, tasks)\n",
    "\n",
    "pool.close()\n",
    "pool.join()"
   ]
  },
  {
   "cell_type": "markdown",
   "metadata": {},
   "source": [
    "## Distributed computing"
   ]
  }
 ],
 "metadata": {
  "kernelspec": {
   "display_name": "Python 3",
   "language": "python",
   "name": "python3"
  },
  "language_info": {
   "codemirror_mode": {
    "name": "ipython",
    "version": 3
   },
   "file_extension": ".py",
   "mimetype": "text/x-python",
   "name": "python",
   "nbconvert_exporter": "python",
   "pygments_lexer": "ipython3",
   "version": "3.7.6"
  }
 },
 "nbformat": 4,
 "nbformat_minor": 4
}
