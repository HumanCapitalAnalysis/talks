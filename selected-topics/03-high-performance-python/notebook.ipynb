{
 "cells": [
  {
   "cell_type": "markdown",
   "metadata": {},
   "source": [
    "# High-performance computing in Python\n",
    "\n",
    "\n",
    "### Missing\n",
    "\n",
    "* Numba"
   ]
  },
  {
   "cell_type": "code",
   "execution_count": 9,
   "metadata": {},
   "outputs": [],
   "source": [
    "from functools import partial\n",
    "import multiprocessing as mp\n",
    "import itertools\n",
    "import sys\n",
    "import os\n",
    "\n",
    "sys.path.insert(0, \"../02-sensitivity-analysis/python\")\n",
    "sys.path.insert(0, \"python\")\n",
    "\n",
    "import matplotlib.pyplot as plt\n",
    "import numpy as np\n",
    "\n",
    "from ishigami import compute_simulation_total_effect\n",
    "from ishigami import compute_simulation_main_effect\n",
    "from ishigami import evaluate_ishigami_readable\n",
    "from ishigami import evaluate_ishigami\n",
    "\n",
    "from auxiliary import task_mp_no_communication\n",
    "from auxiliary import evaluate_ishigami_loop\n",
    "from auxiliary import task_mp_management\n",
    "from auxiliary import task_mp_queue\n",
    "from functools import partial"
   ]
  },
  {
   "cell_type": "markdown",
   "metadata": {},
   "source": [
    "## Vectorization"
   ]
  },
  {
   "cell_type": "markdown",
   "metadata": {},
   "source": [
    "We can compare the implementation of a for loop with a vectorized counterparts for a set of random input parameters."
   ]
  },
  {
   "cell_type": "code",
   "execution_count": 10,
   "metadata": {},
   "outputs": [],
   "source": [
    "num_draws = 10\n",
    "inputs = np.random.uniform(low=-np.pi, high=np.pi, size=(num_draws, 3))"
   ]
  },
  {
   "cell_type": "markdown",
   "metadata": {},
   "source": [
    "We can use some build-in functionality for some basic benchmarking."
   ]
  },
  {
   "cell_type": "code",
   "execution_count": 11,
   "metadata": {},
   "outputs": [
    {
     "name": "stdout",
     "output_type": "stream",
     "text": [
      "69.1 µs ± 1.44 µs per loop (mean ± std. dev. of 7 runs, 10000 loops each)\n",
      "8.87 µs ± 302 ns per loop (mean ± std. dev. of 7 runs, 100000 loops each)\n"
     ]
    }
   ],
   "source": [
    "%timeit evaluate_ishigami_loop(inputs)\n",
    "%timeit evaluate_ishigami(inputs)"
   ]
  },
  {
   "cell_type": "markdown",
   "metadata": {},
   "source": [
    "We need to set up tests wherever possible."
   ]
  },
  {
   "cell_type": "code",
   "execution_count": 12,
   "metadata": {},
   "outputs": [],
   "source": [
    "np.testing.assert_equal(evaluate_ishigami_loop(inputs), evaluate_ishigami(inputs))"
   ]
  },
  {
   "cell_type": "markdown",
   "metadata": {},
   "source": [
    "## Multiprocessing\n",
    "We first want to get a sense how many CPU's we have available."
   ]
  },
  {
   "cell_type": "code",
   "execution_count": 13,
   "metadata": {},
   "outputs": [
    {
     "name": "stdout",
     "output_type": "stream",
     "text": [
      "Number of cpu : 4\n"
     ]
    }
   ],
   "source": [
    "print(f\"Number of cpu : {mp.cpu_count()}\")"
   ]
  },
  {
   "cell_type": "code",
   "execution_count": 14,
   "metadata": {},
   "outputs": [],
   "source": [
    "# show groups of processes working on total and main effects., mpi worker setup nicely done as well as task differs."
   ]
  },
  {
   "cell_type": "markdown",
   "metadata": {},
   "source": [
    "## mp.Process\n",
    "\n",
    "* without communication"
   ]
  },
  {
   "cell_type": "code",
   "execution_count": 15,
   "metadata": {},
   "outputs": [],
   "source": [
    "num_outer = num_inner = 100\n",
    "task_partial = partial(task_mp_no_communication, num_outer, num_inner)"
   ]
  },
  {
   "cell_type": "code",
   "execution_count": 16,
   "metadata": {},
   "outputs": [
    {
     "name": "stdout",
     "output_type": "stream",
     "text": [
      "... started on input parameter 0\n",
      "... started on input parameter 1\n",
      "... started on input parameter 2\n",
      "... finished input parameter 0\n",
      "... finished input parameter 2\n",
      "... finished input parameter 1\n"
     ]
    }
   ],
   "source": [
    "processes = list()\n",
    "for which in range(3):\n",
    "    p = mp.Process(target=task_partial, args=(which, ))\n",
    "    processes.append(p)\n",
    "\n",
    "# We can execute our work.\n",
    "[p.start() for p in processes]\n",
    "[p.join() for p in processes];"
   ]
  },
  {
   "cell_type": "markdown",
   "metadata": {},
   "source": [
    "* with communication"
   ]
  },
  {
   "cell_type": "code",
   "execution_count": 17,
   "metadata": {},
   "outputs": [],
   "source": [
    "# We need to prepare a container for communication. One\n",
    "# alternative is to derine a shared variable.\n",
    "qout = mp.Queue()\n",
    "\n",
    "# We can partial out most function arguments\n",
    "task_partial = partial(task_mp_queue, num_outer, num_inner, qout)"
   ]
  },
  {
   "cell_type": "code",
   "execution_count": 18,
   "metadata": {},
   "outputs": [
    {
     "name": "stdout",
     "output_type": "stream",
     "text": [
      "[0.2791831519566242, 0.4691635591850568, 0.009084340128113134]\n"
     ]
    }
   ],
   "source": [
    "# We can prepare our work.\n",
    "processes = []\n",
    "for which in range(3):\n",
    "    p = mp.Process(target=task_partial, args=(which, ))\n",
    "    processes.append(p)\n",
    "    \n",
    "# We can execute our work.\n",
    "[p.start() for p in processes]\n",
    "[p.join() for p in processes]\n",
    "    \n",
    "# We need to ensure that we have a unique\n",
    "# order of the results.\n",
    "unsorted_result = [qout.get() for p in processes]\n",
    "result = [t[1] for t in sorted(unsorted_result)] \n",
    "print(result)"
   ]
  },
  {
   "cell_type": "markdown",
   "metadata": {},
   "source": [
    "## mp.Pool"
   ]
  },
  {
   "cell_type": "code",
   "execution_count": 19,
   "metadata": {},
   "outputs": [
    {
     "name": "stdout",
     "output_type": "stream",
     "text": [
      "... started on input parameter 0\n",
      "... started on input parameter 1\n",
      "... started on input parameter 2\n",
      "... finished input parameter 0\n",
      "... finished input parameter 2\n",
      "... finished input parameter 1\n"
     ]
    }
   ],
   "source": [
    "task_partial = partial(task_mp_no_communication, num_outer, num_inner)\n",
    "\n",
    "pool = mp.Pool(processes=3)\n",
    "pool.map(task_partial, range(3))\n",
    "\n",
    "pool.close()\n",
    "pool.join()"
   ]
  },
  {
   "cell_type": "code",
   "execution_count": 20,
   "metadata": {},
   "outputs": [
    {
     "name": "stdout",
     "output_type": "stream",
     "text": [
      "working on main effect for input 1\n",
      "working on main effect for input 2\n",
      "working on main effect for input 0\n",
      "working on total effect for input 1\n",
      "working on total effect for input 0\n",
      "working on total effect for input 2\n"
     ]
    }
   ],
   "source": [
    "task_partial = partial(task_mp_management, num_outer, num_inner)\n",
    "\n",
    "tasks = list(itertools.product([\"main\", \"total\"], range(3)))\n",
    "\n",
    "pool = mp.Pool(processes=3)\n",
    "rslt = pool.map(task_partial, tasks)\n",
    "\n",
    "pool.close()\n",
    "pool.join()"
   ]
  }
 ],
 "metadata": {
  "kernelspec": {
   "display_name": "Python 3",
   "language": "python",
   "name": "python3"
  },
  "language_info": {
   "codemirror_mode": {
    "name": "ipython",
    "version": 3
   },
   "file_extension": ".py",
   "mimetype": "text/x-python",
   "name": "python",
   "nbconvert_exporter": "python",
   "pygments_lexer": "ipython3",
   "version": "3.7.3"
  }
 },
 "nbformat": 4,
 "nbformat_minor": 4
}
