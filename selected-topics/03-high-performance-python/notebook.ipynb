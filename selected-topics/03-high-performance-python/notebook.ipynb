{
 "cells": [
  {
   "cell_type": "markdown",
   "metadata": {},
   "source": [
    "# Multiprocessing\n",
    "\n"
   ]
  },
  {
   "cell_type": "code",
   "execution_count": 186,
   "metadata": {},
   "outputs": [],
   "source": [
    "import sys\n",
    "import os\n",
    "\n",
    "sys.path.insert(0, \"python\")\n",
    "\n",
    "import multiprocessing as mp\n",
    "import numpy as np\n",
    "import matplotlib.pyplot as plt\n",
    "from ishigami import *\n",
    "from functools import partial\n",
    "\n",
    "from auxiliary import * \n",
    "rslt = list()\n",
    "for _ in range(100):\n",
    "    x = np.random.uniform(low=-np.pi, high=np.pi, size=3)\n",
    "    rslt.append(ishigami(x))"
   ]
  },
  {
   "cell_type": "code",
   "execution_count": 163,
   "metadata": {},
   "outputs": [],
   "source": [
    "\n",
    "num_outer, num_inner = 100, 100\n",
    "\n",
    "stat_1 = get_conditional_variance_fast(num_outer, num_inner, which)\n",
    "stat_2 = get_conditional_variance_readable(num_outer, num_inner, which)      \n",
    "\n",
    "np.testing.assert_equal(stat_1, stat_2)"
   ]
  },
  {
   "cell_type": "code",
   "execution_count": 212,
   "metadata": {},
   "outputs": [
    {
     "name": "stdout",
     "output_type": "stream",
     "text": [
      "9.19 s ± 692 ms per loop (mean ± std. dev. of 7 runs, 1 loop each)\n",
      "6.78 s ± 355 ms per loop (mean ± std. dev. of 7 runs, 1 loop each)\n"
     ]
    }
   ],
   "source": [
    "num_outer, num_inner = 1000, 1000\n",
    "\n",
    "%timeit get_conditional_variance_fast(num_outer, num_inner, which)\n",
    "%timeit get_conditional_variance_readable(num_outer, num_inner, which)"
   ]
  },
  {
   "cell_type": "code",
   "execution_count": 190,
   "metadata": {},
   "outputs": [
    {
     "name": "stdout",
     "output_type": "stream",
     "text": [
      "171 µs ± 4.73 µs per loop (mean ± std. dev. of 7 runs, 10000 loops each)\n",
      "105 µs ± 2.3 µs per loop (mean ± std. dev. of 7 runs, 10000 loops each)\n"
     ]
    }
   ],
   "source": [
    "# Uncertainty propagation\n",
    "num_draws = 10\n",
    "\n",
    "%timeit get_unconditional_variance_fast(num_draws)\n",
    "%timeit get_unconditional_variance_readable(num_draws)"
   ]
  },
  {
   "cell_type": "markdown",
   "metadata": {},
   "source": [
    "We first want to get a sense how many CPU's we have available."
   ]
  },
  {
   "cell_type": "code",
   "execution_count": 4,
   "metadata": {},
   "outputs": [
    {
     "name": "stdout",
     "output_type": "stream",
     "text": [
      "Number of cpu : 4\n"
     ]
    }
   ],
   "source": [
    "print(f\"Number of cpu : {mp.cpu_count()}\")"
   ]
  },
  {
   "cell_type": "code",
   "execution_count": 238,
   "metadata": {},
   "outputs": [],
   "source": [
    "inputs =  np.random.uniform(low=-np.pi, high=np.pi, size=(num_draws, 3))\n",
    "\n",
    "def ishigami_readable(x, a=0.7, b=0.1):\n",
    "    return np.sin(x[0]) + a * np.sin(x[1]) ** 2 + b * x[2] ** 4 * np.sin(x[0])\n",
    "\n",
    "def ishigami_fast(x, a=0.7, b=0.1):\n",
    "    x0, x1, x2 = x[:, 0], x[:, 1], x[:, 2]\n",
    "    return np.sin(x0) + a * np.sin(x1) ** 2 + b * x2 ** 4 * np.sin(x0)\n",
    "\n",
    "rslt = list()\n",
    "for input_ in inputs:\n",
    "    rslt.append(ishigami_readable(input_))\n",
    "\n",
    "np.testing.assert_equal(ishigami_fast(inputs), rslt)"
   ]
  },
  {
   "cell_type": "markdown",
   "metadata": {},
   "source": [
    "## mp.Process"
   ]
  },
  {
   "cell_type": "code",
   "execution_count": 210,
   "metadata": {},
   "outputs": [
    {
     "name": "stdout",
     "output_type": "stream",
     "text": [
      "... started on input parameter 0\n",
      "... started on input parameter 1\n",
      "... started on input parameter 2\n",
      "... finished input parameter 1\n",
      "... finished input parameter 2\n",
      "... finished input parameter 0\n"
     ]
    }
   ],
   "source": [
    "num_outer, num_inner = 1000, 1000\n",
    "\n",
    "import multiprocessing\n",
    "\n",
    "def task(num_outer, num_inner, which):\n",
    "    \n",
    "    print(f\"... started on input parameter {which}\")\n",
    "    rslt = get_conditional_variance_fast(num_outer, num_inner, which)\n",
    "    print(f\"... finished input parameter {which}\")\n",
    "\n",
    "    return rslt\n",
    "\n",
    "if __name__ == '__main__':\n",
    "    jobs = []\n",
    "    for which in range(3):\n",
    "        p = mp.Process(target=task, args=(num_outer, num_inner, which))\n",
    "        jobs.append(p)\n",
    "        p.start()"
   ]
  },
  {
   "cell_type": "markdown",
   "metadata": {},
   "source": [
    "## mp.Pool"
   ]
  },
  {
   "cell_type": "code",
   "execution_count": 213,
   "metadata": {},
   "outputs": [
    {
     "name": "stdout",
     "output_type": "stream",
     "text": [
      "... started on input parameter 1\n",
      "... started on input parameter 0\n",
      "... started on input parameter 2\n",
      "... finished input parameter 2\n",
      "... finished input parameter 0\n",
      "... finished input parameter 1\n"
     ]
    }
   ],
   "source": [
    "pool = mp.Pool(processes = 3)\n",
    "task_partial = partial(task, num_outer, num_inner)\n",
    "pool.map(task_partial, range(3))\n",
    "\n",
    "pool.close()\n",
    "pool.join()"
   ]
  },
  {
   "cell_type": "markdown",
   "metadata": {},
   "source": [
    "## References\n",
    "\n",
    "* https://www.journaldev.com/15631/python-multiprocessing-example#python-multiprocessing-process-queue-and-locks\n",
    "\n",
    "* https://pymotw.com/2/multiprocessing/basics.html"
   ]
  },
  {
   "cell_type": "code",
   "execution_count": null,
   "metadata": {},
   "outputs": [],
   "source": []
  }
 ],
 "metadata": {
  "kernelspec": {
   "display_name": "Python 3",
   "language": "python",
   "name": "python3"
  },
  "language_info": {
   "codemirror_mode": {
    "name": "ipython",
    "version": 3
   },
   "file_extension": ".py",
   "mimetype": "text/x-python",
   "name": "python",
   "nbconvert_exporter": "python",
   "pygments_lexer": "ipython3",
   "version": "3.7.3"
  }
 },
 "nbformat": 4,
 "nbformat_minor": 4
}
